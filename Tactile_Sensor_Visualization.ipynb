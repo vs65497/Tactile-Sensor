{
  "nbformat": 4,
  "nbformat_minor": 0,
  "metadata": {
    "colab": {
      "provenance": [],
      "authorship_tag": "ABX9TyMtC9+vJjgBlqTWnuCzI3NC",
      "include_colab_link": true
    },
    "kernelspec": {
      "name": "python3",
      "display_name": "Python 3"
    },
    "language_info": {
      "name": "python"
    }
  },
  "cells": [
    {
      "cell_type": "markdown",
      "metadata": {
        "id": "view-in-github",
        "colab_type": "text"
      },
      "source": [
        "<a href=\"https://colab.research.google.com/github/zanzivyr/Tactile-Sensor/blob/main/Tactile_Sensor_Visualization.ipynb\" target=\"_parent\"><img src=\"https://colab.research.google.com/assets/colab-badge.svg\" alt=\"Open In Colab\"/></a>"
      ]
    },
    {
      "cell_type": "markdown",
      "source": [
        "# Tactile Sensor: Visualization"
      ],
      "metadata": {
        "id": "V1Y9kxrQQGjA"
      }
    },
    {
      "cell_type": "markdown",
      "source": [
        "## Import Necessary Libraries"
      ],
      "metadata": {
        "id": "o_kdb9eDRTjv"
      }
    },
    {
      "cell_type": "code",
      "source": [
        "# Import the necessary libraries\n",
        "import ipywidgets as widgets\n",
        "from google.colab.output import eval_js\n",
        "from PIL import Image\n",
        "from IPython.display import clear_output \n",
        "import torch\n",
        "from torch import nn\n",
        "import numpy as np\n",
        "import pandas as pd\n",
        "\n",
        "from google.colab import drive\n",
        "drive.mount('/content/drive')"
      ],
      "metadata": {
        "colab": {
          "base_uri": "https://localhost:8080/"
        },
        "id": "5K6bFp8jHfNJ",
        "outputId": "2562f5d1-6dc5-46c8-9ecc-795902a72ca9"
      },
      "execution_count": null,
      "outputs": [
        {
          "output_type": "stream",
          "name": "stdout",
          "text": [
            "Mounted at /content/drive\n"
          ]
        }
      ]
    },
    {
      "cell_type": "code",
      "source": [
        "!pip install -r https://raw.githubusercontent.com/ultralytics/yolov5/master/requirements.txt"
      ],
      "metadata": {
        "id": "QZ4fwGElHgRo"
      },
      "execution_count": null,
      "outputs": []
    },
    {
      "cell_type": "markdown",
      "source": [
        "## Object Detection"
      ],
      "metadata": {
        "id": "rb_Libv3Rnju"
      }
    },
    {
      "cell_type": "code",
      "source": [
        "model_detect = torch.hub.load('ultralytics/yolov5', 'custom', '/content/drive/MyDrive/Tactile Sensor/model.pt') \n",
        "images = [\n",
        "    \"/content/drive/MyDrive/Tactile Sensor/images/1.png\",\n",
        "    \"/content/drive/MyDrive/Tactile Sensor/images/2.png\",\n",
        "    \"/content/drive/MyDrive/Tactile Sensor/images/3.png\",\n",
        "    \"/content/drive/MyDrive/Tactile Sensor/images/4.png\",\n",
        "    \"/content/drive/MyDrive/Tactile Sensor/images/5.png\",\n",
        "    \"/content/drive/MyDrive/Tactile Sensor/images/6.png\",\n",
        "    \"/content/drive/MyDrive/Tactile Sensor/images/7.png\",\n",
        "    \"/content/drive/MyDrive/Tactile Sensor/images/8.png\",\n",
        "]\n",
        "results = model_detect(images)"
      ],
      "metadata": {
        "colab": {
          "base_uri": "https://localhost:8080/"
        },
        "id": "iLAB1EK2HiFD",
        "outputId": "5f74f6b2-102c-4586-a8f2-0d4962954bdc"
      },
      "execution_count": null,
      "outputs": [
        {
          "output_type": "stream",
          "name": "stderr",
          "text": [
            "/usr/local/lib/python3.8/dist-packages/torch/hub.py:267: UserWarning: You are about to download and run code from an untrusted repository. In a future release, this won't be allowed. To add the repository to your trusted list, change the command to {calling_fn}(..., trust_repo=False) and a command prompt will appear asking for an explicit confirmation of trust, or load(..., trust_repo=True), which will assume that the prompt is to be answered with 'yes'. You can also use load(..., trust_repo='check') which will only prompt for confirmation if the repo is not already trusted. This will eventually be the default behaviour\n",
            "  warnings.warn(\n",
            "Downloading: \"https://github.com/ultralytics/yolov5/zipball/master\" to /root/.cache/torch/hub/master.zip\n",
            "YOLOv5 🚀 2023-1-9 Python-3.8.16 torch-1.13.0+cu116 CPU\n",
            "\n",
            "Fusing layers... \n",
            "YOLOv5s summary: 157 layers, 7012822 parameters, 0 gradients, 15.8 GFLOPs\n",
            "Adding AutoShape... \n"
          ]
        }
      ]
    },
    {
      "cell_type": "markdown",
      "source": [
        "## Reshape Data"
      ],
      "metadata": {
        "id": "mOzI3O4jSEB5"
      }
    },
    {
      "cell_type": "code",
      "source": [
        "img=Image.open(images[0])\n",
        "w,h=img.size\n",
        "xorigin, yorigin = w/2, h/2\n",
        "xorigin, yorigin\n",
        "\n",
        "data = np.array(results.pandas().xyxy)\n",
        "df = pd.DataFrame({\n",
        "    'xmin': data[:, 0, 0], \n",
        "    'ymin': data[:, 0, 1], \n",
        "    'xmax': data[:, 0, 2], \n",
        "    'ymax': data[:, 0, 3], \n",
        "    'confidence': data[:, 0, 4], \n",
        "    'class': data[:, 0, 5], \n",
        "    'name': data[:, 0, 6]\n",
        "})\n",
        "df = df[['xmin','ymin','xmax','ymax']]\n",
        "df['xcenter'] = df['xmax'] - df['xmin']\n",
        "df['ycenter'] = df['ymax'] - df['ymin']\n",
        "df['area'] = df['xcenter'] * df['ycenter']\n",
        "df['distance'] = ((xorigin - df['xcenter'])**2 - (yorigin - df['ycenter'])**2) ** 0.5\n",
        "\n",
        "df['angle'] = ((df['xcenter'] - 1) / df['distance'])\n",
        "df['angle'] = df['angle'].apply(lambda x: np.arccos(x) * 180 / 3.1415 )\n",
        "\n",
        "df"
      ],
      "metadata": {
        "colab": {
          "base_uri": "https://localhost:8080/",
          "height": 300
        },
        "id": "AtMHewOmH69y",
        "outputId": "7c71652b-4eac-4912-83ec-25d2f8e91a1c"
      },
      "execution_count": null,
      "outputs": [
        {
          "output_type": "execute_result",
          "data": {
            "text/plain": [
              "          xmin        ymin         xmax        ymax     xcenter     ycenter  \\\n",
              "0   906.650574  215.124802  1126.824951  526.016357  220.174377  310.891556   \n",
              "1  1074.559326   195.01207  1277.986816  548.637146   203.42749  353.625076   \n",
              "2   570.556641  111.673828   754.431519  240.853943  183.874878  129.180115   \n",
              "3   538.139771   21.461487   760.539429  185.778992  222.399658  164.317505   \n",
              "4   534.045471         0.0   737.378601  114.226532   203.33313  114.226532   \n",
              "5   494.853088  436.521332   641.529846  586.613525  146.676758  150.092194   \n",
              "6   429.716675  460.232574   613.557495  668.624878   183.84082  208.392303   \n",
              "7   378.069458  517.873352   594.305969       720.0  216.236511  202.126648   \n",
              "\n",
              "           area    distance      angle  \n",
              "0  68450.354747  416.943538  58.288414  \n",
              "1  71937.061754  436.525963  62.374178  \n",
              "2   23752.97783  393.411118  62.301698  \n",
              "3  36544.156923  368.915175  53.121854  \n",
              "4  23226.038264  360.934008  55.905588  \n",
              "5  22015.036331  446.437604  70.957173  \n",
              "6  38311.012016  430.228199  64.852156  \n",
              "7  43707.161179  393.257548  56.818539  "
            ],
            "text/html": [
              "\n",
              "  <div id=\"df-f281e7cb-62c3-4a48-95bb-a27b11172e18\">\n",
              "    <div class=\"colab-df-container\">\n",
              "      <div>\n",
              "<style scoped>\n",
              "    .dataframe tbody tr th:only-of-type {\n",
              "        vertical-align: middle;\n",
              "    }\n",
              "\n",
              "    .dataframe tbody tr th {\n",
              "        vertical-align: top;\n",
              "    }\n",
              "\n",
              "    .dataframe thead th {\n",
              "        text-align: right;\n",
              "    }\n",
              "</style>\n",
              "<table border=\"1\" class=\"dataframe\">\n",
              "  <thead>\n",
              "    <tr style=\"text-align: right;\">\n",
              "      <th></th>\n",
              "      <th>xmin</th>\n",
              "      <th>ymin</th>\n",
              "      <th>xmax</th>\n",
              "      <th>ymax</th>\n",
              "      <th>xcenter</th>\n",
              "      <th>ycenter</th>\n",
              "      <th>area</th>\n",
              "      <th>distance</th>\n",
              "      <th>angle</th>\n",
              "    </tr>\n",
              "  </thead>\n",
              "  <tbody>\n",
              "    <tr>\n",
              "      <th>0</th>\n",
              "      <td>906.650574</td>\n",
              "      <td>215.124802</td>\n",
              "      <td>1126.824951</td>\n",
              "      <td>526.016357</td>\n",
              "      <td>220.174377</td>\n",
              "      <td>310.891556</td>\n",
              "      <td>68450.354747</td>\n",
              "      <td>416.943538</td>\n",
              "      <td>58.288414</td>\n",
              "    </tr>\n",
              "    <tr>\n",
              "      <th>1</th>\n",
              "      <td>1074.559326</td>\n",
              "      <td>195.01207</td>\n",
              "      <td>1277.986816</td>\n",
              "      <td>548.637146</td>\n",
              "      <td>203.42749</td>\n",
              "      <td>353.625076</td>\n",
              "      <td>71937.061754</td>\n",
              "      <td>436.525963</td>\n",
              "      <td>62.374178</td>\n",
              "    </tr>\n",
              "    <tr>\n",
              "      <th>2</th>\n",
              "      <td>570.556641</td>\n",
              "      <td>111.673828</td>\n",
              "      <td>754.431519</td>\n",
              "      <td>240.853943</td>\n",
              "      <td>183.874878</td>\n",
              "      <td>129.180115</td>\n",
              "      <td>23752.97783</td>\n",
              "      <td>393.411118</td>\n",
              "      <td>62.301698</td>\n",
              "    </tr>\n",
              "    <tr>\n",
              "      <th>3</th>\n",
              "      <td>538.139771</td>\n",
              "      <td>21.461487</td>\n",
              "      <td>760.539429</td>\n",
              "      <td>185.778992</td>\n",
              "      <td>222.399658</td>\n",
              "      <td>164.317505</td>\n",
              "      <td>36544.156923</td>\n",
              "      <td>368.915175</td>\n",
              "      <td>53.121854</td>\n",
              "    </tr>\n",
              "    <tr>\n",
              "      <th>4</th>\n",
              "      <td>534.045471</td>\n",
              "      <td>0.0</td>\n",
              "      <td>737.378601</td>\n",
              "      <td>114.226532</td>\n",
              "      <td>203.33313</td>\n",
              "      <td>114.226532</td>\n",
              "      <td>23226.038264</td>\n",
              "      <td>360.934008</td>\n",
              "      <td>55.905588</td>\n",
              "    </tr>\n",
              "    <tr>\n",
              "      <th>5</th>\n",
              "      <td>494.853088</td>\n",
              "      <td>436.521332</td>\n",
              "      <td>641.529846</td>\n",
              "      <td>586.613525</td>\n",
              "      <td>146.676758</td>\n",
              "      <td>150.092194</td>\n",
              "      <td>22015.036331</td>\n",
              "      <td>446.437604</td>\n",
              "      <td>70.957173</td>\n",
              "    </tr>\n",
              "    <tr>\n",
              "      <th>6</th>\n",
              "      <td>429.716675</td>\n",
              "      <td>460.232574</td>\n",
              "      <td>613.557495</td>\n",
              "      <td>668.624878</td>\n",
              "      <td>183.84082</td>\n",
              "      <td>208.392303</td>\n",
              "      <td>38311.012016</td>\n",
              "      <td>430.228199</td>\n",
              "      <td>64.852156</td>\n",
              "    </tr>\n",
              "    <tr>\n",
              "      <th>7</th>\n",
              "      <td>378.069458</td>\n",
              "      <td>517.873352</td>\n",
              "      <td>594.305969</td>\n",
              "      <td>720.0</td>\n",
              "      <td>216.236511</td>\n",
              "      <td>202.126648</td>\n",
              "      <td>43707.161179</td>\n",
              "      <td>393.257548</td>\n",
              "      <td>56.818539</td>\n",
              "    </tr>\n",
              "  </tbody>\n",
              "</table>\n",
              "</div>\n",
              "      <button class=\"colab-df-convert\" onclick=\"convertToInteractive('df-f281e7cb-62c3-4a48-95bb-a27b11172e18')\"\n",
              "              title=\"Convert this dataframe to an interactive table.\"\n",
              "              style=\"display:none;\">\n",
              "        \n",
              "  <svg xmlns=\"http://www.w3.org/2000/svg\" height=\"24px\"viewBox=\"0 0 24 24\"\n",
              "       width=\"24px\">\n",
              "    <path d=\"M0 0h24v24H0V0z\" fill=\"none\"/>\n",
              "    <path d=\"M18.56 5.44l.94 2.06.94-2.06 2.06-.94-2.06-.94-.94-2.06-.94 2.06-2.06.94zm-11 1L8.5 8.5l.94-2.06 2.06-.94-2.06-.94L8.5 2.5l-.94 2.06-2.06.94zm10 10l.94 2.06.94-2.06 2.06-.94-2.06-.94-.94-2.06-.94 2.06-2.06.94z\"/><path d=\"M17.41 7.96l-1.37-1.37c-.4-.4-.92-.59-1.43-.59-.52 0-1.04.2-1.43.59L10.3 9.45l-7.72 7.72c-.78.78-.78 2.05 0 2.83L4 21.41c.39.39.9.59 1.41.59.51 0 1.02-.2 1.41-.59l7.78-7.78 2.81-2.81c.8-.78.8-2.07 0-2.86zM5.41 20L4 18.59l7.72-7.72 1.47 1.35L5.41 20z\"/>\n",
              "  </svg>\n",
              "      </button>\n",
              "      \n",
              "  <style>\n",
              "    .colab-df-container {\n",
              "      display:flex;\n",
              "      flex-wrap:wrap;\n",
              "      gap: 12px;\n",
              "    }\n",
              "\n",
              "    .colab-df-convert {\n",
              "      background-color: #E8F0FE;\n",
              "      border: none;\n",
              "      border-radius: 50%;\n",
              "      cursor: pointer;\n",
              "      display: none;\n",
              "      fill: #1967D2;\n",
              "      height: 32px;\n",
              "      padding: 0 0 0 0;\n",
              "      width: 32px;\n",
              "    }\n",
              "\n",
              "    .colab-df-convert:hover {\n",
              "      background-color: #E2EBFA;\n",
              "      box-shadow: 0px 1px 2px rgba(60, 64, 67, 0.3), 0px 1px 3px 1px rgba(60, 64, 67, 0.15);\n",
              "      fill: #174EA6;\n",
              "    }\n",
              "\n",
              "    [theme=dark] .colab-df-convert {\n",
              "      background-color: #3B4455;\n",
              "      fill: #D2E3FC;\n",
              "    }\n",
              "\n",
              "    [theme=dark] .colab-df-convert:hover {\n",
              "      background-color: #434B5C;\n",
              "      box-shadow: 0px 1px 3px 1px rgba(0, 0, 0, 0.15);\n",
              "      filter: drop-shadow(0px 1px 2px rgba(0, 0, 0, 0.3));\n",
              "      fill: #FFFFFF;\n",
              "    }\n",
              "  </style>\n",
              "\n",
              "      <script>\n",
              "        const buttonEl =\n",
              "          document.querySelector('#df-f281e7cb-62c3-4a48-95bb-a27b11172e18 button.colab-df-convert');\n",
              "        buttonEl.style.display =\n",
              "          google.colab.kernel.accessAllowed ? 'block' : 'none';\n",
              "\n",
              "        async function convertToInteractive(key) {\n",
              "          const element = document.querySelector('#df-f281e7cb-62c3-4a48-95bb-a27b11172e18');\n",
              "          const dataTable =\n",
              "            await google.colab.kernel.invokeFunction('convertToInteractive',\n",
              "                                                     [key], {});\n",
              "          if (!dataTable) return;\n",
              "\n",
              "          const docLinkHtml = 'Like what you see? Visit the ' +\n",
              "            '<a target=\"_blank\" href=https://colab.research.google.com/notebooks/data_table.ipynb>data table notebook</a>'\n",
              "            + ' to learn more about interactive tables.';\n",
              "          element.innerHTML = '';\n",
              "          dataTable['output_type'] = 'display_data';\n",
              "          await google.colab.output.renderOutput(dataTable, element);\n",
              "          const docLink = document.createElement('div');\n",
              "          docLink.innerHTML = docLinkHtml;\n",
              "          element.appendChild(docLink);\n",
              "        }\n",
              "      </script>\n",
              "    </div>\n",
              "  </div>\n",
              "  "
            ]
          },
          "metadata": {},
          "execution_count": 133
        }
      ]
    },
    {
      "cell_type": "markdown",
      "source": [
        "## Training Values"
      ],
      "metadata": {
        "id": "-SR-yFrMSI1E"
      }
    },
    {
      "cell_type": "code",
      "source": [
        "mean = {\n",
        "  'xmin': 615.8238754272461,\n",
        "  'ymin': 244.73744773864746,\n",
        "  'xmax': 813.3193283081055,\n",
        "  'ymax': 448.84392738342285,\n",
        "  'xcenter': 197.49545288085938,\n",
        "  'ycenter': 204.1064796447754,\n",
        "  'area': 40992.97557685175,\n",
        "  'distance': 405.8316376259497,\n",
        "  'angle': 60.57745087023986,\n",
        "  'depth': 2.125\n",
        "}\n",
        "\n",
        "std = {\n",
        "  'xmin': 243.65872423297344,\n",
        "  'ymin': 203.05753647028646,\n",
        "  'xmax': 251.73838345271653,\n",
        "  'ymax': 233.34701680277556,\n",
        "  'xcenter': 25.381534760922136,\n",
        "  'ycenter': 86.16781927313689,\n",
        "  'area': 19708.02440038967,\n",
        "  'distance': 31.624213312428132,\n",
        "  'angle': 5.719562957988278,\n",
        "  'depth': 0.8345229603962802\n",
        "}"
      ],
      "metadata": {
        "id": "LdRK9i4uH7ny"
      },
      "execution_count": null,
      "outputs": []
    },
    {
      "cell_type": "code",
      "source": [
        "# Load the model\n",
        "model_depth = torch.load('/content/drive/MyDrive/Tactile Sensor/dnn_model.pt')"
      ],
      "metadata": {
        "id": "-6t5utzrIOig"
      },
      "execution_count": null,
      "outputs": []
    },
    {
      "cell_type": "markdown",
      "source": [
        "## Get Inference"
      ],
      "metadata": {
        "id": "uM4mOTjNSUDX"
      }
    },
    {
      "cell_type": "code",
      "source": [
        "# Data that affects the number of lemons sold in one day\n",
        "idx = 7\n",
        "sample = {\n",
        "    'xmin': df['xmin'][idx],\n",
        "    'ymin': df['ymin'][idx],\n",
        "    'xmax': df['xmax'][idx],\n",
        "    'ymax': df['ymax'][idx],\n",
        "    'xcenter': df['xcenter'][idx],\n",
        "    'ycenter': df['ycenter'][idx],\n",
        "    'area': df['area'][idx],\n",
        "    'distance': df['distance'][idx],\n",
        "    'angle': df['angle'][idx],\n",
        "}\n",
        "data = {\n",
        "    'xmin': df['xmin'][idx],\n",
        "    'ymin': df['ymin'][idx],\n",
        "    'xmax': df['xmax'][idx],\n",
        "    'ymax': df['ymax'][idx],\n",
        "    'xcenter': df['xcenter'][idx],\n",
        "    'ycenter': df['ycenter'][idx],\n",
        "    'area': df['area'][idx],\n",
        "    'distance': df['distance'][idx],\n",
        "    'angle': df['angle'][idx],\n",
        "}\n",
        "\n",
        "# Normalize our inputs using the same values for our training\n",
        "sample['xmin']     = (sample['xmin']     - mean['xmin']    ) / std['xmin']    \n",
        "sample['ymin']     = (sample['ymin']     - mean['ymin']    ) / std['ymin']    \n",
        "sample['xmax']     = (sample['xmax']     - mean['xmax']    ) / std['xmax']    \n",
        "sample['ymax']     = (sample['ymax']     - mean['ymax']    ) / std['ymax']    \n",
        "sample['xcenter']  = (sample['xcenter']  - mean['xcenter'] ) / std['xcenter'] \n",
        "sample['ycenter']  = (sample['ycenter']  - mean['ycenter'] ) / std['ycenter'] \n",
        "sample['area']     = (sample['area']     - mean['area']    ) / std['area']    \n",
        "sample['distance'] = (sample['distance'] - mean['distance']) / std['distance']\n",
        "sample['angle']    = (sample['angle']    - mean['angle']   ) / std['angle']\n",
        "\n",
        "# Use the CPU as we just need to do a single pass\n",
        "model_depth.to('cpu')\n",
        "\n",
        "# Create our input tensor\n",
        "x1 = torch.tensor(list(sample.values()), dtype=float)\n",
        "\n",
        "# Pass the input into the neural network\n",
        "y1 = model_depth(x1.float())\n",
        "\n",
        "# Un-normalize our output y1\n",
        "data['depth'] = y1*std['depth']+mean['depth']\n",
        "data['depth'] = data['depth'].item()\n",
        "\n",
        "data"
      ],
      "metadata": {
        "colab": {
          "base_uri": "https://localhost:8080/"
        },
        "id": "Ku4eTPz4IvRT",
        "outputId": "65ea0dfb-bfcf-42a9-e703-8604464c7119"
      },
      "execution_count": null,
      "outputs": [
        {
          "output_type": "execute_result",
          "data": {
            "text/plain": [
              "{'xmin': 378.0694580078125,\n",
              " 'ymin': 517.8733520507812,\n",
              " 'xmax': 594.3059692382812,\n",
              " 'ymax': 720.0,\n",
              " 'xcenter': 216.23651123046875,\n",
              " 'ycenter': 202.12664794921875,\n",
              " 'area': 43707.16117924824,\n",
              " 'distance': 393.2575480856976,\n",
              " 'angle': 56.818539027234884,\n",
              " 'depth': 3.361517906188965}"
            ]
          },
          "metadata": {},
          "execution_count": 158
        }
      ]
    },
    {
      "cell_type": "markdown",
      "source": [
        "## Unwrap Cone and Place Deformation on 2D Plane"
      ],
      "metadata": {
        "id": "fc5nQyYmSZGQ"
      }
    },
    {
      "cell_type": "code",
      "source": [
        "# cone dimensions (mm)\n",
        "h = 80 # height\n",
        "d1 = 40 # diameter top\n",
        "d2 = 60 # diameter bottom\n",
        "\n",
        "phi = math.atan(0.5*(d2-d1)/h) # pitch of cone\n",
        "trunc = 0.5*d1/math.tan(phi) # truncated section hypotenuse\n",
        "\n",
        "pi = math.pi\n",
        "s1 = 2 * pi * (d1/2) # circumference top\n",
        "s2 = 2 * pi * (d2/2) # circumference bottom\n",
        "\n",
        "g = math.sqrt(h**2 + (0.5*(d2-d1))**2) # seam length\n",
        "gfull = g + trunc # full seam length including truncated section\n",
        "\n",
        "stotal = 2 * pi * gfull # circumference given gfull as radius\n",
        "theta = 360 * s2 / stotal # unrolled angle\n",
        "\n",
        "# photo dimensions (pixels)\n",
        "d3 = 280 # diameter top\n",
        "d4 = 1280 # diameter bottom\n",
        "\n",
        "psi = data['angle'] * theta/360 # angle of deformation\n",
        "x = data['distance'] * d2/d4 # real x distance from center to deformation\n",
        "gprime = ((d1/2) - x) / math.sin(phi) # distance from deformation to bottom circle along seam\n",
        "\n",
        "hdef = trunc + (g - gprime) # unrolled distance from cone top to deformation"
      ],
      "metadata": {
        "id": "qeBVDhQSpgu9"
      },
      "execution_count": null,
      "outputs": []
    },
    {
      "cell_type": "markdown",
      "source": [
        "# 2D Visualization"
      ],
      "metadata": {
        "id": "A4kIu28eSgds"
      }
    },
    {
      "cell_type": "code",
      "source": [
        "import matplotlib.pyplot as plt\n",
        "from matplotlib.patches import Wedge\n",
        "import math\n",
        "\n",
        "# Set up the figure and axes\n",
        "fig, ax = plt.subplots()\n",
        "\n",
        "# Set the axis to be equal (so the resulting figure is a true representation of the cone)\n",
        "ax.axis('equal')\n",
        "\n",
        "# Set the limits of the x and y axes\n",
        "ax.set(xlim=[0, 250], ylim=[0, 320])\n",
        "\n",
        "wedge_center = gfull\n",
        "xcenter = wedge_center +5\n",
        "ycenter = 80\n",
        "\n",
        "# Create the Wedge patch\n",
        "we = Wedge((xcenter, ycenter), wedge_center, 180-theta, 180, \n",
        "           edgecolor='b', facecolor='none', alpha=0.5)\n",
        "\n",
        "# Add the Wedge patch to the Axes\n",
        "ax.add_artist(we)\n",
        "\n",
        "# To create a truncated cone, you can add an additional Wedge patch with the same center\n",
        "# and angle span, but with a smaller radius. The following code creates a truncated cone\n",
        "# by setting the radius of the second Wedge patch to 5\n",
        "we2 = Wedge((xcenter, ycenter), trunc, 180-theta, 180, \n",
        "            edgecolor='b', facecolor='none', alpha=0.5)\n",
        "ax.add_artist(we2)\n",
        "\n",
        "# Add a red dot at the center of the Wedge patch\n",
        "xpoint = xcenter - hdef*math.cos(psi*pi/180)\n",
        "ypoint = ycenter + hdef*math.sin(psi*pi/180)\n",
        "\n",
        "ax.plot(xpoint, ypoint, 'ro')\n",
        "\n",
        "# Display the figure\n",
        "plt.show()\n",
        "\n",
        "# Deformation Depth\n",
        "print(\"Deformation Depth: \", data['depth'], \"mm\")"
      ],
      "metadata": {
        "id": "ZonqjLZRQTxh",
        "colab": {
          "base_uri": "https://localhost:8080/",
          "height": 286
        },
        "outputId": "dcfc4d9a-db0d-495e-ae70-ec1ac5240ccc"
      },
      "execution_count": null,
      "outputs": [
        {
          "output_type": "stream",
          "name": "stdout",
          "text": [
            "Deformation Depth:  3.361517906188965 mm\n"
          ]
        },
        {
          "output_type": "display_data",
          "data": {
            "text/plain": [
              "<Figure size 432x288 with 1 Axes>"
            ],
            "image/png": "[encoded data removed]"
          },
          "metadata": {
            "needs_background": "light"
          }
        }
      ]
    },
    {
      "cell_type": "markdown",
      "source": [
        "This functions as a proof of concept. The pipeline is complete through this notebook. There are still tasks to be done:\n",
        "\n",
        "1.   Allow video predictions and visualizations\n",
        "2.   Allow streaming video\n",
        "3.   2D Heatmap visualization\n",
        "4.   3D visualization\n",
        "\n"
      ],
      "metadata": {
        "id": "8tYeDQwJhdyj"
      }
    }
  ]
}