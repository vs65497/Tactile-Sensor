{
  "nbformat": 4,
  "nbformat_minor": 0,
  "metadata": {
    "colab": {
      "provenance": [],
      "toc_visible": true,
      "mount_file_id": "104bPwuZprS039eQnJ9hnzZvnpU_uTT_3",
      "authorship_tag": "ABX9TyO3UxLE1ZZABcXSJAFuP3uB",
      "include_colab_link": true
    },
    "kernelspec": {
      "name": "python3",
      "display_name": "Python 3"
    },
    "language_info": {
      "name": "python"
    },
    "widgets": {
      "application/vnd.jupyter.widget-state+json": {
        "3d60ddb256e842dfbef7042b79d7d5f2": {
          "model_module": "@jupyter-widgets/controls",
          "model_name": "IntTextModel",
          "model_module_version": "1.5.0",
          "state": {
            "_dom_classes": [],
            "_model_module": "@jupyter-widgets/controls",
            "_model_module_version": "1.5.0",
            "_model_name": "IntTextModel",
            "_view_count": null,
            "_view_module": "@jupyter-widgets/controls",
            "_view_module_version": "1.5.0",
            "_view_name": "IntTextView",
            "continuous_update": false,
            "description": "Depth (mm):",
            "description_tooltip": null,
            "disabled": true,
            "layout": "IPY_MODEL_a84996980f2242dd9369a3979700e0cc",
            "step": 1,
            "style": "IPY_MODEL_2866a0d1b439494c9b4c78482646755a",
            "value": 3
          }
        },
        "a84996980f2242dd9369a3979700e0cc": {
          "model_module": "@jupyter-widgets/base",
          "model_name": "LayoutModel",
          "model_module_version": "1.2.0",
          "state": {
            "_model_module": "@jupyter-widgets/base",
            "_model_module_version": "1.2.0",
            "_model_name": "LayoutModel",
            "_view_count": null,
            "_view_module": "@jupyter-widgets/base",
            "_view_module_version": "1.2.0",
            "_view_name": "LayoutView",
            "align_content": null,
            "align_items": null,
            "align_self": null,
            "border": null,
            "bottom": null,
            "display": null,
            "flex": null,
            "flex_flow": null,
            "grid_area": null,
            "grid_auto_columns": null,
            "grid_auto_flow": null,
            "grid_auto_rows": null,
            "grid_column": null,
            "grid_gap": null,
            "grid_row": null,
            "grid_template_areas": null,
            "grid_template_columns": null,
            "grid_template_rows": null,
            "height": null,
            "justify_content": null,
            "justify_items": null,
            "left": null,
            "margin": null,
            "max_height": null,
            "max_width": null,
            "min_height": null,
            "min_width": null,
            "object_fit": null,
            "object_position": null,
            "order": null,
            "overflow": null,
            "overflow_x": null,
            "overflow_y": null,
            "padding": null,
            "right": null,
            "top": null,
            "visibility": null,
            "width": null
          }
        },
        "2866a0d1b439494c9b4c78482646755a": {
          "model_module": "@jupyter-widgets/controls",
          "model_name": "DescriptionStyleModel",
          "model_module_version": "1.5.0",
          "state": {
            "_model_module": "@jupyter-widgets/controls",
            "_model_module_version": "1.5.0",
            "_model_name": "DescriptionStyleModel",
            "_view_count": null,
            "_view_module": "@jupyter-widgets/base",
            "_view_module_version": "1.2.0",
            "_view_name": "StyleView",
            "description_width": ""
          }
        },
        "ad3aee6f69a74cd984e09d105969bdd0": {
          "model_module": "@jupyter-widgets/controls",
          "model_name": "ButtonModel",
          "model_module_version": "1.5.0",
          "state": {
            "_dom_classes": [],
            "_model_module": "@jupyter-widgets/controls",
            "_model_module_version": "1.5.0",
            "_model_name": "ButtonModel",
            "_view_count": null,
            "_view_module": "@jupyter-widgets/controls",
            "_view_module_version": "1.5.0",
            "_view_name": "ButtonView",
            "button_style": "",
            "description": "Next Image",
            "disabled": true,
            "icon": "",
            "layout": "IPY_MODEL_c2aae91d78494a8aaea3386600260476",
            "style": "IPY_MODEL_7d068c7e07684ed5b2b571c05efc29d3",
            "tooltip": ""
          }
        },
        "c2aae91d78494a8aaea3386600260476": {
          "model_module": "@jupyter-widgets/base",
          "model_name": "LayoutModel",
          "model_module_version": "1.2.0",
          "state": {
            "_model_module": "@jupyter-widgets/base",
            "_model_module_version": "1.2.0",
            "_model_name": "LayoutModel",
            "_view_count": null,
            "_view_module": "@jupyter-widgets/base",
            "_view_module_version": "1.2.0",
            "_view_name": "LayoutView",
            "align_content": null,
            "align_items": null,
            "align_self": null,
            "border": null,
            "bottom": null,
            "display": null,
            "flex": null,
            "flex_flow": null,
            "grid_area": null,
            "grid_auto_columns": null,
            "grid_auto_flow": null,
            "grid_auto_rows": null,
            "grid_column": null,
            "grid_gap": null,
            "grid_row": null,
            "grid_template_areas": null,
            "grid_template_columns": null,
            "grid_template_rows": null,
            "height": null,
            "justify_content": null,
            "justify_items": null,
            "left": null,
            "margin": null,
            "max_height": null,
            "max_width": null,
            "min_height": null,
            "min_width": null,
            "object_fit": null,
            "object_position": null,
            "order": null,
            "overflow": null,
            "overflow_x": null,
            "overflow_y": null,
            "padding": null,
            "right": null,
            "top": null,
            "visibility": null,
            "width": null
          }
        },
        "7d068c7e07684ed5b2b571c05efc29d3": {
          "model_module": "@jupyter-widgets/controls",
          "model_name": "ButtonStyleModel",
          "model_module_version": "1.5.0",
          "state": {
            "_model_module": "@jupyter-widgets/controls",
            "_model_module_version": "1.5.0",
            "_model_name": "ButtonStyleModel",
            "_view_count": null,
            "_view_module": "@jupyter-widgets/base",
            "_view_module_version": "1.2.0",
            "_view_name": "StyleView",
            "button_color": null,
            "font_weight": ""
          }
        },
        "a0bf49ee4d28413992114d3bd2502c03": {
          "model_module": "@jupyter-widgets/output",
          "model_name": "OutputModel",
          "model_module_version": "1.0.0",
          "state": {
            "_dom_classes": [],
            "_model_module": "@jupyter-widgets/output",
            "_model_module_version": "1.0.0",
            "_model_name": "OutputModel",
            "_view_count": null,
            "_view_module": "@jupyter-widgets/output",
            "_view_module_version": "1.0.0",
            "_view_name": "OutputView",
            "layout": "IPY_MODEL_f499aa7f1e5c4d69be4eb286a90444a5",
            "msg_id": "",
            "outputs": [
              {
                "output_type": "stream",
                "name": "stdout",
                "text": [
                  "placed at (index, depth) (7, 3)\n"
                ]
              },
              {
                "output_type": "display_data",
                "data": {
                  "text/plain": "          xmin        ymin         xmax        ymax     xcenter     ycenter  \\\n0   906.650574  215.124756  1126.825073  526.016418    220.1745  310.891663   \n1  1074.559326   195.01207  1277.986816  548.637146   203.42749  353.625076   \n2   570.556641  111.673859   754.431519  240.853912  183.874878  129.180054   \n3   538.139832   21.461456   760.539368  185.778992  222.399536  164.317535   \n4    534.04541         0.0    737.37854  114.226547   203.33313  114.226547   \n5   494.853088  436.521423   641.529846  586.613586  146.676758  150.092163   \n6   429.716675  460.232605   613.557495  668.624817   183.84082  208.392212   \n7   378.069458  517.873413   594.305969       720.0  216.236511  202.126587   \n\n           area    distance      angle  depth  \n0  68450.416215  416.943428  58.288385    2.0  \n1  71937.061754  436.525963  62.374178    1.0  \n2  23752.966607  393.411082  62.301695    1.0  \n3  36544.143652   368.91533  53.121896    3.0  \n4  23226.041366  360.934018  55.905589    2.0  \n5  22015.031855  446.437589  70.957173    2.0  \n6  38310.995185  430.228167  64.852154    3.0  \n7  43707.147981  393.257524  56.818537    3.0  ",
                  "text/html": "\n  <div id=\"df-64f1e5e1-9406-42b3-81d7-7715b3d1a21c\">\n    <div class=\"colab-df-container\">\n      <div>\n<style scoped>\n    .dataframe tbody tr th:only-of-type {\n        vertical-align: middle;\n    }\n\n    .dataframe tbody tr th {\n        vertical-align: top;\n    }\n\n    .dataframe thead th {\n        text-align: right;\n    }\n</style>\n<table border=\"1\" class=\"dataframe\">\n  <thead>\n    <tr style=\"text-align: right;\">\n      <th></th>\n      <th>xmin</th>\n      <th>ymin</th>\n      <th>xmax</th>\n      <th>ymax</th>\n      <th>xcenter</th>\n      <th>ycenter</th>\n      <th>area</th>\n      <th>distance</th>\n      <th>angle</th>\n      <th>depth</th>\n    </tr>\n  </thead>\n  <tbody>\n    <tr>\n      <th>0</th>\n      <td>906.650574</td>\n      <td>215.124756</td>\n      <td>1126.825073</td>\n      <td>526.016418</td>\n      <td>220.1745</td>\n      <td>310.891663</td>\n      <td>68450.416215</td>\n      <td>416.943428</td>\n      <td>58.288385</td>\n      <td>2.0</td>\n    </tr>\n    <tr>\n      <th>1</th>\n      <td>1074.559326</td>\n      <td>195.01207</td>\n      <td>1277.986816</td>\n      <td>548.637146</td>\n      <td>203.42749</td>\n      <td>353.625076</td>\n      <td>71937.061754</td>\n      <td>436.525963</td>\n      <td>62.374178</td>\n      <td>1.0</td>\n    </tr>\n    <tr>\n      <th>2</th>\n      <td>570.556641</td>\n      <td>111.673859</td>\n      <td>754.431519</td>\n      <td>240.853912</td>\n      <td>183.874878</td>\n      <td>129.180054</td>\n      <td>23752.966607</td>\n      <td>393.411082</td>\n      <td>62.301695</td>\n      <td>1.0</td>\n    </tr>\n    <tr>\n      <th>3</th>\n      <td>538.139832</td>\n      <td>21.461456</td>\n      <td>760.539368</td>\n      <td>185.778992</td>\n      <td>222.399536</td>\n      <td>164.317535</td>\n      <td>36544.143652</td>\n      <td>368.91533</td>\n      <td>53.121896</td>\n      <td>3.0</td>\n    </tr>\n    <tr>\n      <th>4</th>\n      <td>534.04541</td>\n      <td>0.0</td>\n      <td>737.37854</td>\n      <td>114.226547</td>\n      <td>203.33313</td>\n      <td>114.226547</td>\n      <td>23226.041366</td>\n      <td>360.934018</td>\n      <td>55.905589</td>\n      <td>2.0</td>\n    </tr>\n    <tr>\n      <th>5</th>\n      <td>494.853088</td>\n      <td>436.521423</td>\n      <td>641.529846</td>\n      <td>586.613586</td>\n      <td>146.676758</td>\n      <td>150.092163</td>\n      <td>22015.031855</td>\n      <td>446.437589</td>\n      <td>70.957173</td>\n      <td>2.0</td>\n    </tr>\n    <tr>\n      <th>6</th>\n      <td>429.716675</td>\n      <td>460.232605</td>\n      <td>613.557495</td>\n      <td>668.624817</td>\n      <td>183.84082</td>\n      <td>208.392212</td>\n      <td>38310.995185</td>\n      <td>430.228167</td>\n      <td>64.852154</td>\n      <td>3.0</td>\n    </tr>\n    <tr>\n      <th>7</th>\n      <td>378.069458</td>\n      <td>517.873413</td>\n      <td>594.305969</td>\n      <td>720.0</td>\n      <td>216.236511</td>\n      <td>202.126587</td>\n      <td>43707.147981</td>\n      <td>393.257524</td>\n      <td>56.818537</td>\n      <td>3.0</td>\n    </tr>\n  </tbody>\n</table>\n</div>\n      <button class=\"colab-df-convert\" onclick=\"convertToInteractive('df-64f1e5e1-9406-42b3-81d7-7715b3d1a21c')\"\n              title=\"Convert this dataframe to an interactive table.\"\n              style=\"display:none;\">\n        \n  <svg xmlns=\"http://www.w3.org/2000/svg\" height=\"24px\"viewBox=\"0 0 24 24\"\n       width=\"24px\">\n    <path d=\"M0 0h24v24H0V0z\" fill=\"none\"/>\n    <path d=\"M18.56 5.44l.94 2.06.94-2.06 2.06-.94-2.06-.94-.94-2.06-.94 2.06-2.06.94zm-11 1L8.5 8.5l.94-2.06 2.06-.94-2.06-.94L8.5 2.5l-.94 2.06-2.06.94zm10 10l.94 2.06.94-2.06 2.06-.94-2.06-.94-.94-2.06-.94 2.06-2.06.94z\"/><path d=\"M17.41 7.96l-1.37-1.37c-.4-.4-.92-.59-1.43-.59-.52 0-1.04.2-1.43.59L10.3 9.45l-7.72 7.72c-.78.78-.78 2.05 0 2.83L4 21.41c.39.39.9.59 1.41.59.51 0 1.02-.2 1.41-.59l7.78-7.78 2.81-2.81c.8-.78.8-2.07 0-2.86zM5.41 20L4 18.59l7.72-7.72 1.47 1.35L5.41 20z\"/>\n  </svg>\n      </button>\n      \n  <style>\n    .colab-df-container {\n      display:flex;\n      flex-wrap:wrap;\n      gap: 12px;\n    }\n\n    .colab-df-convert {\n      background-color: #E8F0FE;\n      border: none;\n      border-radius: 50%;\n      cursor: pointer;\n      display: none;\n      fill: #1967D2;\n      height: 32px;\n      padding: 0 0 0 0;\n      width: 32px;\n    }\n\n    .colab-df-convert:hover {\n      background-color: #E2EBFA;\n      box-shadow: 0px 1px 2px rgba(60, 64, 67, 0.3), 0px 1px 3px 1px rgba(60, 64, 67, 0.15);\n      fill: #174EA6;\n    }\n\n    [theme=dark] .colab-df-convert {\n      background-color: #3B4455;\n      fill: #D2E3FC;\n    }\n\n    [theme=dark] .colab-df-convert:hover {\n      background-color: #434B5C;\n      box-shadow: 0px 1px 3px 1px rgba(0, 0, 0, 0.15);\n      filter: drop-shadow(0px 1px 2px rgba(0, 0, 0, 0.3));\n      fill: #FFFFFF;\n    }\n  </style>\n\n      <script>\n        const buttonEl =\n          document.querySelector('#df-64f1e5e1-9406-42b3-81d7-7715b3d1a21c button.colab-df-convert');\n        buttonEl.style.display =\n          google.colab.kernel.accessAllowed ? 'block' : 'none';\n\n        async function convertToInteractive(key) {\n          const element = document.querySelector('#df-64f1e5e1-9406-42b3-81d7-7715b3d1a21c');\n          const dataTable =\n            await google.colab.kernel.invokeFunction('convertToInteractive',\n                                                     [key], {});\n          if (!dataTable) return;\n\n          const docLinkHtml = 'Like what you see? Visit the ' +\n            '<a target=\"_blank\" href=https://colab.research.google.com/notebooks/data_table.ipynb>data table notebook</a>'\n            + ' to learn more about interactive tables.';\n          element.innerHTML = '';\n          dataTable['output_type'] = 'display_data';\n          await google.colab.output.renderOutput(dataTable, element);\n          const docLink = document.createElement('div');\n          docLink.innerHTML = docLinkHtml;\n          element.appendChild(docLink);\n        }\n      </script>\n    </div>\n  </div>\n  "
                },
                "metadata": {}
              }
            ]
          }
        },
        "f499aa7f1e5c4d69be4eb286a90444a5": {
          "model_module": "@jupyter-widgets/base",
          "model_name": "LayoutModel",
          "model_module_version": "1.2.0",
          "state": {
            "_model_module": "@jupyter-widgets/base",
            "_model_module_version": "1.2.0",
            "_model_name": "LayoutModel",
            "_view_count": null,
            "_view_module": "@jupyter-widgets/base",
            "_view_module_version": "1.2.0",
            "_view_name": "LayoutView",
            "align_content": null,
            "align_items": null,
            "align_self": null,
            "border": null,
            "bottom": null,
            "display": null,
            "flex": null,
            "flex_flow": null,
            "grid_area": null,
            "grid_auto_columns": null,
            "grid_auto_flow": null,
            "grid_auto_rows": null,
            "grid_column": null,
            "grid_gap": null,
            "grid_row": null,
            "grid_template_areas": null,
            "grid_template_columns": null,
            "grid_template_rows": null,
            "height": null,
            "justify_content": null,
            "justify_items": null,
            "left": null,
            "margin": null,
            "max_height": null,
            "max_width": null,
            "min_height": null,
            "min_width": null,
            "object_fit": null,
            "object_position": null,
            "order": null,
            "overflow": null,
            "overflow_x": null,
            "overflow_y": null,
            "padding": null,
            "right": null,
            "top": null,
            "visibility": null,
            "width": null
          }
        }
      }
    }
  },
  "cells": [
    {
      "cell_type": "markdown",
      "metadata": {
        "id": "view-in-github",
        "colab_type": "text"
      },
      "source": [
        "<a href=\"https://colab.research.google.com/github/zanzivyr/Tactile-Sensor/blob/main/Tactile_Sensor_CNN.ipynb\" target=\"_parent\"><img src=\"https://colab.research.google.com/assets/colab-badge.svg\" alt=\"Open In Colab\"/></a>"
      ]
    },
    {
      "cell_type": "markdown",
      "source": [
        "# Tactile Sensor: Depth Inference"
      ],
      "metadata": {
        "id": "V1Y9kxrQQGjA"
      }
    },
    {
      "cell_type": "markdown",
      "source": [
        "## Summary\n",
        "\n",
        "In this second step, I train a deep neural network on the tabular data provided from the YOLOv5 object detection in order to predict the depth of a deformation."
      ],
      "metadata": {
        "id": "sza81pzySY5-"
      }
    },
    {
      "cell_type": "markdown",
      "source": [
        "# Object Detection\n",
        "(via YOLOv5)"
      ],
      "metadata": {
        "id": "EFtEZYhOlDda"
      }
    },
    {
      "cell_type": "markdown",
      "source": [
        "Resources:\n",
        "\n",
        "- https://github.com/ultralytics/yolov5/issues/36\n",
        "- https://stackoverflow.com/questions/67244258/how-to-get-class-and-bounding-box-coordinates-from-yolov5-predictions "
      ],
      "metadata": {
        "id": "EF2aub7LoNOO"
      }
    },
    {
      "cell_type": "markdown",
      "source": [
        "## Import Libraries"
      ],
      "metadata": {
        "id": "ZY22AhCJNlwi"
      }
    },
    {
      "cell_type": "code",
      "source": [
        "# Import the necessary libraries\n",
        "import ipywidgets as widgets\n",
        "from google.colab.output import eval_js\n",
        "from PIL import Image\n",
        "from IPython.display import clear_output \n",
        "import torch\n",
        "from torch import nn\n",
        "import numpy as np\n",
        "import pandas as pd\n",
        "\n",
        "from google.colab import drive\n",
        "drive.mount('/content/drive')"
      ],
      "metadata": {
        "colab": {
          "base_uri": "https://localhost:8080/"
        },
        "id": "2RhG7i6ShSRQ",
        "outputId": "79b79030-0410-4c3a-e961-3f215e62ca8c"
      },
      "execution_count": 2,
      "outputs": [
        {
          "output_type": "stream",
          "name": "stdout",
          "text": [
            "Drive already mounted at /content/drive; to attempt to forcibly remount, call drive.mount(\"/content/drive\", force_remount=True).\n"
          ]
        }
      ]
    },
    {
      "cell_type": "code",
      "source": [
        "!pip install -r https://raw.githubusercontent.com/ultralytics/yolov5/master/requirements.txt"
      ],
      "metadata": {
        "id": "HFGDt6hTmutR"
      },
      "execution_count": null,
      "outputs": []
    },
    {
      "cell_type": "markdown",
      "source": [
        "## Get Object Detection from YOLO"
      ],
      "metadata": {
        "id": "VCPtSDk-NzaH"
      }
    },
    {
      "cell_type": "code",
      "source": [
        "model = torch.hub.load('ultralytics/yolov5', 'custom', '/content/drive/MyDrive/Tactile Sensor/model.pt') \n",
        "images = [\n",
        "    \"/content/drive/MyDrive/Tactile Sensor/images/1.png\",\n",
        "    \"/content/drive/MyDrive/Tactile Sensor/images/2.png\",\n",
        "    \"/content/drive/MyDrive/Tactile Sensor/images/3.png\",\n",
        "    \"/content/drive/MyDrive/Tactile Sensor/images/4.png\",\n",
        "    \"/content/drive/MyDrive/Tactile Sensor/images/5.png\",\n",
        "    \"/content/drive/MyDrive/Tactile Sensor/images/6.png\",\n",
        "    \"/content/drive/MyDrive/Tactile Sensor/images/7.png\",\n",
        "    \"/content/drive/MyDrive/Tactile Sensor/images/8.png\",\n",
        "]\n",
        "results = model(images)"
      ],
      "metadata": {
        "colab": {
          "base_uri": "https://localhost:8080/"
        },
        "id": "vPyfUh2TleCD",
        "outputId": "d8d3d751-04bf-4cd5-f125-1118de5371f7"
      },
      "execution_count": 4,
      "outputs": [
        {
          "output_type": "stream",
          "name": "stderr",
          "text": [
            "/usr/local/lib/python3.8/dist-packages/torch/hub.py:267: UserWarning: You are about to download and run code from an untrusted repository. In a future release, this won't be allowed. To add the repository to your trusted list, change the command to {calling_fn}(..., trust_repo=False) and a command prompt will appear asking for an explicit confirmation of trust, or load(..., trust_repo=True), which will assume that the prompt is to be answered with 'yes'. You can also use load(..., trust_repo='check') which will only prompt for confirmation if the repo is not already trusted. This will eventually be the default behaviour\n",
            "  warnings.warn(\n",
            "Downloading: \"https://github.com/ultralytics/yolov5/zipball/master\" to /root/.cache/torch/hub/master.zip\n",
            "YOLOv5 🚀 2023-1-9 Python-3.8.16 torch-1.13.0+cu116 CPU\n",
            "\n",
            "Fusing layers... \n",
            "YOLOv5s summary: 157 layers, 7012822 parameters, 0 gradients, 15.8 GFLOPs\n",
            "Adding AutoShape... \n"
          ]
        }
      ]
    },
    {
      "cell_type": "markdown",
      "source": [
        "## Shape Returned Data"
      ],
      "metadata": {
        "id": "nXYSat5UOHTP"
      }
    },
    {
      "cell_type": "code",
      "source": [
        "data = np.array(results.pandas().xyxy)\n",
        "df = pd.DataFrame({\n",
        "    'xmin': data[:, 0, 0], \n",
        "    'ymin': data[:, 0, 1], \n",
        "    'xmax': data[:, 0, 2], \n",
        "    'ymax': data[:, 0, 3], \n",
        "    'confidence': data[:, 0, 4], \n",
        "    'class': data[:, 0, 5], \n",
        "    'name': data[:, 0, 6]\n",
        "})\n",
        "df"
      ],
      "metadata": {
        "id": "ueuh-rCjn9FU",
        "colab": {
          "base_uri": "https://localhost:8080/",
          "height": 300
        },
        "outputId": "cb0572b7-b9fd-425f-bb66-d2edad02fa59"
      },
      "execution_count": 5,
      "outputs": [
        {
          "output_type": "execute_result",
          "data": {
            "text/plain": [
              "          xmin        ymin         xmax        ymax confidence class name\n",
              "0   906.650574  215.124756  1126.825073  526.016418   0.917952     0    0\n",
              "1  1074.559326   195.01207  1277.986816  548.637146   0.898038     0    0\n",
              "2   570.556641  111.673859   754.431519  240.853912   0.892166     0    0\n",
              "3   538.139832   21.461456   760.539368  185.778992    0.89058     0    0\n",
              "4    534.04541         0.0    737.37854  114.226547   0.890327     0    0\n",
              "5   494.853088  436.521423   641.529846  586.613586   0.921078     0    0\n",
              "6   429.716675  460.232605   613.557495  668.624817   0.923419     0    0\n",
              "7   378.069458  517.873413   594.305969       720.0   0.927537     0    0"
            ],
            "text/html": [
              "\n",
              "  <div id=\"df-b67d2355-5533-4384-b1a2-5761c7d4559f\">\n",
              "    <div class=\"colab-df-container\">\n",
              "      <div>\n",
              "<style scoped>\n",
              "    .dataframe tbody tr th:only-of-type {\n",
              "        vertical-align: middle;\n",
              "    }\n",
              "\n",
              "    .dataframe tbody tr th {\n",
              "        vertical-align: top;\n",
              "    }\n",
              "\n",
              "    .dataframe thead th {\n",
              "        text-align: right;\n",
              "    }\n",
              "</style>\n",
              "<table border=\"1\" class=\"dataframe\">\n",
              "  <thead>\n",
              "    <tr style=\"text-align: right;\">\n",
              "      <th></th>\n",
              "      <th>xmin</th>\n",
              "      <th>ymin</th>\n",
              "      <th>xmax</th>\n",
              "      <th>ymax</th>\n",
              "      <th>confidence</th>\n",
              "      <th>class</th>\n",
              "      <th>name</th>\n",
              "    </tr>\n",
              "  </thead>\n",
              "  <tbody>\n",
              "    <tr>\n",
              "      <th>0</th>\n",
              "      <td>906.650574</td>\n",
              "      <td>215.124756</td>\n",
              "      <td>1126.825073</td>\n",
              "      <td>526.016418</td>\n",
              "      <td>0.917952</td>\n",
              "      <td>0</td>\n",
              "      <td>0</td>\n",
              "    </tr>\n",
              "    <tr>\n",
              "      <th>1</th>\n",
              "      <td>1074.559326</td>\n",
              "      <td>195.01207</td>\n",
              "      <td>1277.986816</td>\n",
              "      <td>548.637146</td>\n",
              "      <td>0.898038</td>\n",
              "      <td>0</td>\n",
              "      <td>0</td>\n",
              "    </tr>\n",
              "    <tr>\n",
              "      <th>2</th>\n",
              "      <td>570.556641</td>\n",
              "      <td>111.673859</td>\n",
              "      <td>754.431519</td>\n",
              "      <td>240.853912</td>\n",
              "      <td>0.892166</td>\n",
              "      <td>0</td>\n",
              "      <td>0</td>\n",
              "    </tr>\n",
              "    <tr>\n",
              "      <th>3</th>\n",
              "      <td>538.139832</td>\n",
              "      <td>21.461456</td>\n",
              "      <td>760.539368</td>\n",
              "      <td>185.778992</td>\n",
              "      <td>0.89058</td>\n",
              "      <td>0</td>\n",
              "      <td>0</td>\n",
              "    </tr>\n",
              "    <tr>\n",
              "      <th>4</th>\n",
              "      <td>534.04541</td>\n",
              "      <td>0.0</td>\n",
              "      <td>737.37854</td>\n",
              "      <td>114.226547</td>\n",
              "      <td>0.890327</td>\n",
              "      <td>0</td>\n",
              "      <td>0</td>\n",
              "    </tr>\n",
              "    <tr>\n",
              "      <th>5</th>\n",
              "      <td>494.853088</td>\n",
              "      <td>436.521423</td>\n",
              "      <td>641.529846</td>\n",
              "      <td>586.613586</td>\n",
              "      <td>0.921078</td>\n",
              "      <td>0</td>\n",
              "      <td>0</td>\n",
              "    </tr>\n",
              "    <tr>\n",
              "      <th>6</th>\n",
              "      <td>429.716675</td>\n",
              "      <td>460.232605</td>\n",
              "      <td>613.557495</td>\n",
              "      <td>668.624817</td>\n",
              "      <td>0.923419</td>\n",
              "      <td>0</td>\n",
              "      <td>0</td>\n",
              "    </tr>\n",
              "    <tr>\n",
              "      <th>7</th>\n",
              "      <td>378.069458</td>\n",
              "      <td>517.873413</td>\n",
              "      <td>594.305969</td>\n",
              "      <td>720.0</td>\n",
              "      <td>0.927537</td>\n",
              "      <td>0</td>\n",
              "      <td>0</td>\n",
              "    </tr>\n",
              "  </tbody>\n",
              "</table>\n",
              "</div>\n",
              "      <button class=\"colab-df-convert\" onclick=\"convertToInteractive('df-b67d2355-5533-4384-b1a2-5761c7d4559f')\"\n",
              "              title=\"Convert this dataframe to an interactive table.\"\n",
              "              style=\"display:none;\">\n",
              "        \n",
              "  <svg xmlns=\"http://www.w3.org/2000/svg\" height=\"24px\"viewBox=\"0 0 24 24\"\n",
              "       width=\"24px\">\n",
              "    <path d=\"M0 0h24v24H0V0z\" fill=\"none\"/>\n",
              "    <path d=\"M18.56 5.44l.94 2.06.94-2.06 2.06-.94-2.06-.94-.94-2.06-.94 2.06-2.06.94zm-11 1L8.5 8.5l.94-2.06 2.06-.94-2.06-.94L8.5 2.5l-.94 2.06-2.06.94zm10 10l.94 2.06.94-2.06 2.06-.94-2.06-.94-.94-2.06-.94 2.06-2.06.94z\"/><path d=\"M17.41 7.96l-1.37-1.37c-.4-.4-.92-.59-1.43-.59-.52 0-1.04.2-1.43.59L10.3 9.45l-7.72 7.72c-.78.78-.78 2.05 0 2.83L4 21.41c.39.39.9.59 1.41.59.51 0 1.02-.2 1.41-.59l7.78-7.78 2.81-2.81c.8-.78.8-2.07 0-2.86zM5.41 20L4 18.59l7.72-7.72 1.47 1.35L5.41 20z\"/>\n",
              "  </svg>\n",
              "      </button>\n",
              "      \n",
              "  <style>\n",
              "    .colab-df-container {\n",
              "      display:flex;\n",
              "      flex-wrap:wrap;\n",
              "      gap: 12px;\n",
              "    }\n",
              "\n",
              "    .colab-df-convert {\n",
              "      background-color: #E8F0FE;\n",
              "      border: none;\n",
              "      border-radius: 50%;\n",
              "      cursor: pointer;\n",
              "      display: none;\n",
              "      fill: #1967D2;\n",
              "      height: 32px;\n",
              "      padding: 0 0 0 0;\n",
              "      width: 32px;\n",
              "    }\n",
              "\n",
              "    .colab-df-convert:hover {\n",
              "      background-color: #E2EBFA;\n",
              "      box-shadow: 0px 1px 2px rgba(60, 64, 67, 0.3), 0px 1px 3px 1px rgba(60, 64, 67, 0.15);\n",
              "      fill: #174EA6;\n",
              "    }\n",
              "\n",
              "    [theme=dark] .colab-df-convert {\n",
              "      background-color: #3B4455;\n",
              "      fill: #D2E3FC;\n",
              "    }\n",
              "\n",
              "    [theme=dark] .colab-df-convert:hover {\n",
              "      background-color: #434B5C;\n",
              "      box-shadow: 0px 1px 3px 1px rgba(0, 0, 0, 0.15);\n",
              "      filter: drop-shadow(0px 1px 2px rgba(0, 0, 0, 0.3));\n",
              "      fill: #FFFFFF;\n",
              "    }\n",
              "  </style>\n",
              "\n",
              "      <script>\n",
              "        const buttonEl =\n",
              "          document.querySelector('#df-b67d2355-5533-4384-b1a2-5761c7d4559f button.colab-df-convert');\n",
              "        buttonEl.style.display =\n",
              "          google.colab.kernel.accessAllowed ? 'block' : 'none';\n",
              "\n",
              "        async function convertToInteractive(key) {\n",
              "          const element = document.querySelector('#df-b67d2355-5533-4384-b1a2-5761c7d4559f');\n",
              "          const dataTable =\n",
              "            await google.colab.kernel.invokeFunction('convertToInteractive',\n",
              "                                                     [key], {});\n",
              "          if (!dataTable) return;\n",
              "\n",
              "          const docLinkHtml = 'Like what you see? Visit the ' +\n",
              "            '<a target=\"_blank\" href=https://colab.research.google.com/notebooks/data_table.ipynb>data table notebook</a>'\n",
              "            + ' to learn more about interactive tables.';\n",
              "          element.innerHTML = '';\n",
              "          dataTable['output_type'] = 'display_data';\n",
              "          await google.colab.output.renderOutput(dataTable, element);\n",
              "          const docLink = document.createElement('div');\n",
              "          docLink.innerHTML = docLinkHtml;\n",
              "          element.appendChild(docLink);\n",
              "        }\n",
              "      </script>\n",
              "    </div>\n",
              "  </div>\n",
              "  "
            ]
          },
          "metadata": {},
          "execution_count": 5
        }
      ]
    },
    {
      "cell_type": "markdown",
      "source": [
        "Trim the data to only relevant columns"
      ],
      "metadata": {
        "id": "wU6PlvK50_Pb"
      }
    },
    {
      "cell_type": "code",
      "source": [
        "df = df[['xmin','ymin','xmax','ymax']]\n",
        "df"
      ],
      "metadata": {
        "id": "WSqoZfpD0rqD",
        "colab": {
          "base_uri": "https://localhost:8080/",
          "height": 300
        },
        "outputId": "d2939e7e-3e78-40ae-b174-65a92aefa8b3"
      },
      "execution_count": 6,
      "outputs": [
        {
          "output_type": "execute_result",
          "data": {
            "text/plain": [
              "          xmin        ymin         xmax        ymax\n",
              "0   906.650574  215.124756  1126.825073  526.016418\n",
              "1  1074.559326   195.01207  1277.986816  548.637146\n",
              "2   570.556641  111.673859   754.431519  240.853912\n",
              "3   538.139832   21.461456   760.539368  185.778992\n",
              "4    534.04541         0.0    737.37854  114.226547\n",
              "5   494.853088  436.521423   641.529846  586.613586\n",
              "6   429.716675  460.232605   613.557495  668.624817\n",
              "7   378.069458  517.873413   594.305969       720.0"
            ],
            "text/html": [
              "\n",
              "  <div id=\"df-42959366-8d34-455e-aa92-a6b98ea270bc\">\n",
              "    <div class=\"colab-df-container\">\n",
              "      <div>\n",
              "<style scoped>\n",
              "    .dataframe tbody tr th:only-of-type {\n",
              "        vertical-align: middle;\n",
              "    }\n",
              "\n",
              "    .dataframe tbody tr th {\n",
              "        vertical-align: top;\n",
              "    }\n",
              "\n",
              "    .dataframe thead th {\n",
              "        text-align: right;\n",
              "    }\n",
              "</style>\n",
              "<table border=\"1\" class=\"dataframe\">\n",
              "  <thead>\n",
              "    <tr style=\"text-align: right;\">\n",
              "      <th></th>\n",
              "      <th>xmin</th>\n",
              "      <th>ymin</th>\n",
              "      <th>xmax</th>\n",
              "      <th>ymax</th>\n",
              "    </tr>\n",
              "  </thead>\n",
              "  <tbody>\n",
              "    <tr>\n",
              "      <th>0</th>\n",
              "      <td>906.650574</td>\n",
              "      <td>215.124756</td>\n",
              "      <td>1126.825073</td>\n",
              "      <td>526.016418</td>\n",
              "    </tr>\n",
              "    <tr>\n",
              "      <th>1</th>\n",
              "      <td>1074.559326</td>\n",
              "      <td>195.01207</td>\n",
              "      <td>1277.986816</td>\n",
              "      <td>548.637146</td>\n",
              "    </tr>\n",
              "    <tr>\n",
              "      <th>2</th>\n",
              "      <td>570.556641</td>\n",
              "      <td>111.673859</td>\n",
              "      <td>754.431519</td>\n",
              "      <td>240.853912</td>\n",
              "    </tr>\n",
              "    <tr>\n",
              "      <th>3</th>\n",
              "      <td>538.139832</td>\n",
              "      <td>21.461456</td>\n",
              "      <td>760.539368</td>\n",
              "      <td>185.778992</td>\n",
              "    </tr>\n",
              "    <tr>\n",
              "      <th>4</th>\n",
              "      <td>534.04541</td>\n",
              "      <td>0.0</td>\n",
              "      <td>737.37854</td>\n",
              "      <td>114.226547</td>\n",
              "    </tr>\n",
              "    <tr>\n",
              "      <th>5</th>\n",
              "      <td>494.853088</td>\n",
              "      <td>436.521423</td>\n",
              "      <td>641.529846</td>\n",
              "      <td>586.613586</td>\n",
              "    </tr>\n",
              "    <tr>\n",
              "      <th>6</th>\n",
              "      <td>429.716675</td>\n",
              "      <td>460.232605</td>\n",
              "      <td>613.557495</td>\n",
              "      <td>668.624817</td>\n",
              "    </tr>\n",
              "    <tr>\n",
              "      <th>7</th>\n",
              "      <td>378.069458</td>\n",
              "      <td>517.873413</td>\n",
              "      <td>594.305969</td>\n",
              "      <td>720.0</td>\n",
              "    </tr>\n",
              "  </tbody>\n",
              "</table>\n",
              "</div>\n",
              "      <button class=\"colab-df-convert\" onclick=\"convertToInteractive('df-42959366-8d34-455e-aa92-a6b98ea270bc')\"\n",
              "              title=\"Convert this dataframe to an interactive table.\"\n",
              "              style=\"display:none;\">\n",
              "        \n",
              "  <svg xmlns=\"http://www.w3.org/2000/svg\" height=\"24px\"viewBox=\"0 0 24 24\"\n",
              "       width=\"24px\">\n",
              "    <path d=\"M0 0h24v24H0V0z\" fill=\"none\"/>\n",
              "    <path d=\"M18.56 5.44l.94 2.06.94-2.06 2.06-.94-2.06-.94-.94-2.06-.94 2.06-2.06.94zm-11 1L8.5 8.5l.94-2.06 2.06-.94-2.06-.94L8.5 2.5l-.94 2.06-2.06.94zm10 10l.94 2.06.94-2.06 2.06-.94-2.06-.94-.94-2.06-.94 2.06-2.06.94z\"/><path d=\"M17.41 7.96l-1.37-1.37c-.4-.4-.92-.59-1.43-.59-.52 0-1.04.2-1.43.59L10.3 9.45l-7.72 7.72c-.78.78-.78 2.05 0 2.83L4 21.41c.39.39.9.59 1.41.59.51 0 1.02-.2 1.41-.59l7.78-7.78 2.81-2.81c.8-.78.8-2.07 0-2.86zM5.41 20L4 18.59l7.72-7.72 1.47 1.35L5.41 20z\"/>\n",
              "  </svg>\n",
              "      </button>\n",
              "      \n",
              "  <style>\n",
              "    .colab-df-container {\n",
              "      display:flex;\n",
              "      flex-wrap:wrap;\n",
              "      gap: 12px;\n",
              "    }\n",
              "\n",
              "    .colab-df-convert {\n",
              "      background-color: #E8F0FE;\n",
              "      border: none;\n",
              "      border-radius: 50%;\n",
              "      cursor: pointer;\n",
              "      display: none;\n",
              "      fill: #1967D2;\n",
              "      height: 32px;\n",
              "      padding: 0 0 0 0;\n",
              "      width: 32px;\n",
              "    }\n",
              "\n",
              "    .colab-df-convert:hover {\n",
              "      background-color: #E2EBFA;\n",
              "      box-shadow: 0px 1px 2px rgba(60, 64, 67, 0.3), 0px 1px 3px 1px rgba(60, 64, 67, 0.15);\n",
              "      fill: #174EA6;\n",
              "    }\n",
              "\n",
              "    [theme=dark] .colab-df-convert {\n",
              "      background-color: #3B4455;\n",
              "      fill: #D2E3FC;\n",
              "    }\n",
              "\n",
              "    [theme=dark] .colab-df-convert:hover {\n",
              "      background-color: #434B5C;\n",
              "      box-shadow: 0px 1px 3px 1px rgba(0, 0, 0, 0.15);\n",
              "      filter: drop-shadow(0px 1px 2px rgba(0, 0, 0, 0.3));\n",
              "      fill: #FFFFFF;\n",
              "    }\n",
              "  </style>\n",
              "\n",
              "      <script>\n",
              "        const buttonEl =\n",
              "          document.querySelector('#df-42959366-8d34-455e-aa92-a6b98ea270bc button.colab-df-convert');\n",
              "        buttonEl.style.display =\n",
              "          google.colab.kernel.accessAllowed ? 'block' : 'none';\n",
              "\n",
              "        async function convertToInteractive(key) {\n",
              "          const element = document.querySelector('#df-42959366-8d34-455e-aa92-a6b98ea270bc');\n",
              "          const dataTable =\n",
              "            await google.colab.kernel.invokeFunction('convertToInteractive',\n",
              "                                                     [key], {});\n",
              "          if (!dataTable) return;\n",
              "\n",
              "          const docLinkHtml = 'Like what you see? Visit the ' +\n",
              "            '<a target=\"_blank\" href=https://colab.research.google.com/notebooks/data_table.ipynb>data table notebook</a>'\n",
              "            + ' to learn more about interactive tables.';\n",
              "          element.innerHTML = '';\n",
              "          dataTable['output_type'] = 'display_data';\n",
              "          await google.colab.output.renderOutput(dataTable, element);\n",
              "          const docLink = document.createElement('div');\n",
              "          docLink.innerHTML = docLinkHtml;\n",
              "          element.appendChild(docLink);\n",
              "        }\n",
              "      </script>\n",
              "    </div>\n",
              "  </div>\n",
              "  "
            ]
          },
          "metadata": {},
          "execution_count": 6
        }
      ]
    },
    {
      "cell_type": "markdown",
      "source": [
        "Get the center of the image. This will be an approximate center of the TPU finger. We are assuming that the camera is in the same position every time and that the center of the photo is the true center of the finger."
      ],
      "metadata": {
        "id": "5ofTqZcg3Ri4"
      }
    },
    {
      "cell_type": "code",
      "source": [
        "img=Image.open(images[0])\n",
        "w,h=img.size\n",
        "xorigin, yorigin = w/2, h/2\n",
        "xorigin, yorigin"
      ],
      "metadata": {
        "id": "o0w0aepP2s1u",
        "colab": {
          "base_uri": "https://localhost:8080/"
        },
        "outputId": "81e5f609-dbfe-4a7c-f8c3-5d96035f6e1d"
      },
      "execution_count": 7,
      "outputs": [
        {
          "output_type": "execute_result",
          "data": {
            "text/plain": [
              "(640.0, 360.0)"
            ]
          },
          "metadata": {},
          "execution_count": 7
        }
      ]
    },
    {
      "cell_type": "code",
      "source": [
        "df['xcenter'] = df['xmax'] - df['xmin']\n",
        "df['ycenter'] = df['ymax'] - df['ymin']\n",
        "df['area'] = df['xcenter'] * df['ycenter']\n",
        "df['distance'] = ((xorigin - df['xcenter'])**2 - (yorigin - df['ycenter'])**2) ** 0.5\n",
        "\n",
        "df['angle'] = ((df['xcenter'] - 1) / df['distance'])\n",
        "df['angle'] = df['angle'].apply(lambda x: np.arccos(x) * 180 / 3.1415 )\n",
        "\n",
        "df"
      ],
      "metadata": {
        "id": "uubnnyfF1VcF",
        "colab": {
          "base_uri": "https://localhost:8080/",
          "height": 535
        },
        "outputId": "ff0d64d3-f372-4f70-c41e-98c2edfbef8b"
      },
      "execution_count": 8,
      "outputs": [
        {
          "output_type": "stream",
          "name": "stderr",
          "text": [
            "<ipython-input-8-8ac5da14918a>:1: SettingWithCopyWarning: \n",
            "A value is trying to be set on a copy of a slice from a DataFrame.\n",
            "Try using .loc[row_indexer,col_indexer] = value instead\n",
            "\n",
            "See the caveats in the documentation: https://pandas.pydata.org/pandas-docs/stable/user_guide/indexing.html#returning-a-view-versus-a-copy\n",
            "  df['xcenter'] = df['xmax'] - df['xmin']\n",
            "<ipython-input-8-8ac5da14918a>:2: SettingWithCopyWarning: \n",
            "A value is trying to be set on a copy of a slice from a DataFrame.\n",
            "Try using .loc[row_indexer,col_indexer] = value instead\n",
            "\n",
            "See the caveats in the documentation: https://pandas.pydata.org/pandas-docs/stable/user_guide/indexing.html#returning-a-view-versus-a-copy\n",
            "  df['ycenter'] = df['ymax'] - df['ymin']\n"
          ]
        },
        {
          "output_type": "execute_result",
          "data": {
            "text/plain": [
              "          xmin        ymin         xmax        ymax     xcenter     ycenter  \\\n",
              "0   906.650574  215.124756  1126.825073  526.016418    220.1745  310.891663   \n",
              "1  1074.559326   195.01207  1277.986816  548.637146   203.42749  353.625076   \n",
              "2   570.556641  111.673859   754.431519  240.853912  183.874878  129.180054   \n",
              "3   538.139832   21.461456   760.539368  185.778992  222.399536  164.317535   \n",
              "4    534.04541         0.0    737.37854  114.226547   203.33313  114.226547   \n",
              "5   494.853088  436.521423   641.529846  586.613586  146.676758  150.092163   \n",
              "6   429.716675  460.232605   613.557495  668.624817   183.84082  208.392212   \n",
              "7   378.069458  517.873413   594.305969       720.0  216.236511  202.126587   \n",
              "\n",
              "           area    distance      angle  \n",
              "0  68450.416215  416.943428  58.288385  \n",
              "1  71937.061754  436.525963  62.374178  \n",
              "2  23752.966607  393.411082  62.301695  \n",
              "3  36544.143652   368.91533  53.121896  \n",
              "4  23226.041366  360.934018  55.905589  \n",
              "5  22015.031855  446.437589  70.957173  \n",
              "6  38310.995185  430.228167  64.852154  \n",
              "7  43707.147981  393.257524  56.818537  "
            ],
            "text/html": [
              "\n",
              "  <div id=\"df-0b4bd215-ebc1-41ea-8e04-42049bc9110f\">\n",
              "    <div class=\"colab-df-container\">\n",
              "      <div>\n",
              "<style scoped>\n",
              "    .dataframe tbody tr th:only-of-type {\n",
              "        vertical-align: middle;\n",
              "    }\n",
              "\n",
              "    .dataframe tbody tr th {\n",
              "        vertical-align: top;\n",
              "    }\n",
              "\n",
              "    .dataframe thead th {\n",
              "        text-align: right;\n",
              "    }\n",
              "</style>\n",
              "<table border=\"1\" class=\"dataframe\">\n",
              "  <thead>\n",
              "    <tr style=\"text-align: right;\">\n",
              "      <th></th>\n",
              "      <th>xmin</th>\n",
              "      <th>ymin</th>\n",
              "      <th>xmax</th>\n",
              "      <th>ymax</th>\n",
              "      <th>xcenter</th>\n",
              "      <th>ycenter</th>\n",
              "      <th>area</th>\n",
              "      <th>distance</th>\n",
              "      <th>angle</th>\n",
              "    </tr>\n",
              "  </thead>\n",
              "  <tbody>\n",
              "    <tr>\n",
              "      <th>0</th>\n",
              "      <td>906.650574</td>\n",
              "      <td>215.124756</td>\n",
              "      <td>1126.825073</td>\n",
              "      <td>526.016418</td>\n",
              "      <td>220.1745</td>\n",
              "      <td>310.891663</td>\n",
              "      <td>68450.416215</td>\n",
              "      <td>416.943428</td>\n",
              "      <td>58.288385</td>\n",
              "    </tr>\n",
              "    <tr>\n",
              "      <th>1</th>\n",
              "      <td>1074.559326</td>\n",
              "      <td>195.01207</td>\n",
              "      <td>1277.986816</td>\n",
              "      <td>548.637146</td>\n",
              "      <td>203.42749</td>\n",
              "      <td>353.625076</td>\n",
              "      <td>71937.061754</td>\n",
              "      <td>436.525963</td>\n",
              "      <td>62.374178</td>\n",
              "    </tr>\n",
              "    <tr>\n",
              "      <th>2</th>\n",
              "      <td>570.556641</td>\n",
              "      <td>111.673859</td>\n",
              "      <td>754.431519</td>\n",
              "      <td>240.853912</td>\n",
              "      <td>183.874878</td>\n",
              "      <td>129.180054</td>\n",
              "      <td>23752.966607</td>\n",
              "      <td>393.411082</td>\n",
              "      <td>62.301695</td>\n",
              "    </tr>\n",
              "    <tr>\n",
              "      <th>3</th>\n",
              "      <td>538.139832</td>\n",
              "      <td>21.461456</td>\n",
              "      <td>760.539368</td>\n",
              "      <td>185.778992</td>\n",
              "      <td>222.399536</td>\n",
              "      <td>164.317535</td>\n",
              "      <td>36544.143652</td>\n",
              "      <td>368.91533</td>\n",
              "      <td>53.121896</td>\n",
              "    </tr>\n",
              "    <tr>\n",
              "      <th>4</th>\n",
              "      <td>534.04541</td>\n",
              "      <td>0.0</td>\n",
              "      <td>737.37854</td>\n",
              "      <td>114.226547</td>\n",
              "      <td>203.33313</td>\n",
              "      <td>114.226547</td>\n",
              "      <td>23226.041366</td>\n",
              "      <td>360.934018</td>\n",
              "      <td>55.905589</td>\n",
              "    </tr>\n",
              "    <tr>\n",
              "      <th>5</th>\n",
              "      <td>494.853088</td>\n",
              "      <td>436.521423</td>\n",
              "      <td>641.529846</td>\n",
              "      <td>586.613586</td>\n",
              "      <td>146.676758</td>\n",
              "      <td>150.092163</td>\n",
              "      <td>22015.031855</td>\n",
              "      <td>446.437589</td>\n",
              "      <td>70.957173</td>\n",
              "    </tr>\n",
              "    <tr>\n",
              "      <th>6</th>\n",
              "      <td>429.716675</td>\n",
              "      <td>460.232605</td>\n",
              "      <td>613.557495</td>\n",
              "      <td>668.624817</td>\n",
              "      <td>183.84082</td>\n",
              "      <td>208.392212</td>\n",
              "      <td>38310.995185</td>\n",
              "      <td>430.228167</td>\n",
              "      <td>64.852154</td>\n",
              "    </tr>\n",
              "    <tr>\n",
              "      <th>7</th>\n",
              "      <td>378.069458</td>\n",
              "      <td>517.873413</td>\n",
              "      <td>594.305969</td>\n",
              "      <td>720.0</td>\n",
              "      <td>216.236511</td>\n",
              "      <td>202.126587</td>\n",
              "      <td>43707.147981</td>\n",
              "      <td>393.257524</td>\n",
              "      <td>56.818537</td>\n",
              "    </tr>\n",
              "  </tbody>\n",
              "</table>\n",
              "</div>\n",
              "      <button class=\"colab-df-convert\" onclick=\"convertToInteractive('df-0b4bd215-ebc1-41ea-8e04-42049bc9110f')\"\n",
              "              title=\"Convert this dataframe to an interactive table.\"\n",
              "              style=\"display:none;\">\n",
              "        \n",
              "  <svg xmlns=\"http://www.w3.org/2000/svg\" height=\"24px\"viewBox=\"0 0 24 24\"\n",
              "       width=\"24px\">\n",
              "    <path d=\"M0 0h24v24H0V0z\" fill=\"none\"/>\n",
              "    <path d=\"M18.56 5.44l.94 2.06.94-2.06 2.06-.94-2.06-.94-.94-2.06-.94 2.06-2.06.94zm-11 1L8.5 8.5l.94-2.06 2.06-.94-2.06-.94L8.5 2.5l-.94 2.06-2.06.94zm10 10l.94 2.06.94-2.06 2.06-.94-2.06-.94-.94-2.06-.94 2.06-2.06.94z\"/><path d=\"M17.41 7.96l-1.37-1.37c-.4-.4-.92-.59-1.43-.59-.52 0-1.04.2-1.43.59L10.3 9.45l-7.72 7.72c-.78.78-.78 2.05 0 2.83L4 21.41c.39.39.9.59 1.41.59.51 0 1.02-.2 1.41-.59l7.78-7.78 2.81-2.81c.8-.78.8-2.07 0-2.86zM5.41 20L4 18.59l7.72-7.72 1.47 1.35L5.41 20z\"/>\n",
              "  </svg>\n",
              "      </button>\n",
              "      \n",
              "  <style>\n",
              "    .colab-df-container {\n",
              "      display:flex;\n",
              "      flex-wrap:wrap;\n",
              "      gap: 12px;\n",
              "    }\n",
              "\n",
              "    .colab-df-convert {\n",
              "      background-color: #E8F0FE;\n",
              "      border: none;\n",
              "      border-radius: 50%;\n",
              "      cursor: pointer;\n",
              "      display: none;\n",
              "      fill: #1967D2;\n",
              "      height: 32px;\n",
              "      padding: 0 0 0 0;\n",
              "      width: 32px;\n",
              "    }\n",
              "\n",
              "    .colab-df-convert:hover {\n",
              "      background-color: #E2EBFA;\n",
              "      box-shadow: 0px 1px 2px rgba(60, 64, 67, 0.3), 0px 1px 3px 1px rgba(60, 64, 67, 0.15);\n",
              "      fill: #174EA6;\n",
              "    }\n",
              "\n",
              "    [theme=dark] .colab-df-convert {\n",
              "      background-color: #3B4455;\n",
              "      fill: #D2E3FC;\n",
              "    }\n",
              "\n",
              "    [theme=dark] .colab-df-convert:hover {\n",
              "      background-color: #434B5C;\n",
              "      box-shadow: 0px 1px 3px 1px rgba(0, 0, 0, 0.15);\n",
              "      filter: drop-shadow(0px 1px 2px rgba(0, 0, 0, 0.3));\n",
              "      fill: #FFFFFF;\n",
              "    }\n",
              "  </style>\n",
              "\n",
              "      <script>\n",
              "        const buttonEl =\n",
              "          document.querySelector('#df-0b4bd215-ebc1-41ea-8e04-42049bc9110f button.colab-df-convert');\n",
              "        buttonEl.style.display =\n",
              "          google.colab.kernel.accessAllowed ? 'block' : 'none';\n",
              "\n",
              "        async function convertToInteractive(key) {\n",
              "          const element = document.querySelector('#df-0b4bd215-ebc1-41ea-8e04-42049bc9110f');\n",
              "          const dataTable =\n",
              "            await google.colab.kernel.invokeFunction('convertToInteractive',\n",
              "                                                     [key], {});\n",
              "          if (!dataTable) return;\n",
              "\n",
              "          const docLinkHtml = 'Like what you see? Visit the ' +\n",
              "            '<a target=\"_blank\" href=https://colab.research.google.com/notebooks/data_table.ipynb>data table notebook</a>'\n",
              "            + ' to learn more about interactive tables.';\n",
              "          element.innerHTML = '';\n",
              "          dataTable['output_type'] = 'display_data';\n",
              "          await google.colab.output.renderOutput(dataTable, element);\n",
              "          const docLink = document.createElement('div');\n",
              "          docLink.innerHTML = docLinkHtml;\n",
              "          element.appendChild(docLink);\n",
              "        }\n",
              "      </script>\n",
              "    </div>\n",
              "  </div>\n",
              "  "
            ]
          },
          "metadata": {},
          "execution_count": 8
        }
      ]
    },
    {
      "cell_type": "code",
      "source": [
        "#@title Annotate Depth (Click to Expand)\n",
        "\n",
        "btn_index = -1\n",
        "button = widgets.Button(description=\"Click to start\")\n",
        "output = widgets.Output()\n",
        "\n",
        "# Create a function that updates the image widget\n",
        "def update_image_widget(image_file):\n",
        "  # Convert the binary image to a PIL image\n",
        "  image = Image.open(image_file)\n",
        "\n",
        "  width = int(image.size[0] * 0.5)\n",
        "  height = int(image.size[1] * 0.5)\n",
        "\n",
        "  # resize the image to 50% of the original size\n",
        "  image = image.resize((width, height))\n",
        "\n",
        "  # Display the image in the widget\n",
        "  eval_js('google.colab.output.setIframeHeight('+str(height + 130)+')')\n",
        "  display(image)\n",
        "\n",
        "def on_button_clicked(b):\n",
        "  global btn_index\n",
        "\n",
        "  # Display the message within the output widget.\n",
        "  with output:\n",
        "    if(btn_index < 0):\n",
        "      print(\"Start annotating now.\")\n",
        "      button.description = \"Next Image\"\n",
        "      depth.disabled = False\n",
        "      update_image_widget(images[0])\n",
        "\n",
        "    elif(btn_index < df.shape[0]-1):\n",
        "      clear_output()\n",
        "      print(\"placed at (index, depth) (\"+str(btn_index)+\", \"+str(depth.value)+\")\")\n",
        "      update_image_widget(images[btn_index])\n",
        "      df.at[btn_index, 'depth'] = depth.value\n",
        "\n",
        "    else:\n",
        "      clear_output()\n",
        "      print(\"placed at (index, depth) (\"+str(btn_index)+\", \"+str(depth.value)+\")\")\n",
        "      df.at[btn_index, 'depth'] = depth.value\n",
        "\n",
        "      depth.disabled=True\n",
        "      button.disabled=True\n",
        "      display(df)\n",
        "\n",
        "    btn_index += 1\n",
        "\n",
        "depth = widgets.IntText(\n",
        "    value=2,\n",
        "    description='Depth (mm):',\n",
        "    disabled=True\n",
        ")\n",
        "print(\"Press 'Next Image' to annotate images with depth info.\")\n",
        "button.on_click(on_button_clicked)\n",
        "display(depth, button, output)"
      ],
      "metadata": {
        "id": "bRC18acGJKw7",
        "colab": {
          "base_uri": "https://localhost:8080/",
          "height": 490,
          "referenced_widgets": [
            "3d60ddb256e842dfbef7042b79d7d5f2",
            "a84996980f2242dd9369a3979700e0cc",
            "2866a0d1b439494c9b4c78482646755a",
            "ad3aee6f69a74cd984e09d105969bdd0",
            "c2aae91d78494a8aaea3386600260476",
            "7d068c7e07684ed5b2b571c05efc29d3",
            "a0bf49ee4d28413992114d3bd2502c03",
            "f499aa7f1e5c4d69be4eb286a90444a5"
          ]
        },
        "cellView": "form",
        "outputId": "5c04e1f3-afe3-4be8-8f29-8214599e6e27"
      },
      "execution_count": 9,
      "outputs": [
        {
          "output_type": "stream",
          "name": "stdout",
          "text": [
            "Press 'Next Image' to annotate images with depth info.\n"
          ]
        },
        {
          "output_type": "display_data",
          "data": {
            "text/plain": [
              "IntText(value=2, description='Depth (mm):', disabled=True)"
            ],
            "application/vnd.jupyter.widget-view+json": {
              "version_major": 2,
              "version_minor": 0,
              "model_id": "3d60ddb256e842dfbef7042b79d7d5f2"
            }
          },
          "metadata": {}
        },
        {
          "output_type": "display_data",
          "data": {
            "text/plain": [
              "Button(description='Click to start', style=ButtonStyle())"
            ],
            "application/vnd.jupyter.widget-view+json": {
              "version_major": 2,
              "version_minor": 0,
              "model_id": "ad3aee6f69a74cd984e09d105969bdd0"
            }
          },
          "metadata": {}
        },
        {
          "output_type": "display_data",
          "data": {
            "text/plain": [
              "Output()"
            ],
            "application/vnd.jupyter.widget-view+json": {
              "version_major": 2,
              "version_minor": 0,
              "model_id": "a0bf49ee4d28413992114d3bd2502c03"
            }
          },
          "metadata": {}
        }
      ]
    },
    {
      "cell_type": "markdown",
      "source": [
        "# Create Deep Neural Network\n",
        "\n",
        "Create DNN for depth predictions\n",
        "\n",
        "From LeakyAI - https://www.youtube.com/watch?v=r5D6bnCJ490"
      ],
      "metadata": {
        "id": "DOr3ZFE8AhHa"
      }
    },
    {
      "cell_type": "code",
      "source": [
        "# Check to see if we have a GPU to use for training\n",
        "device = 'cuda' if torch.cuda.is_available() else 'cpu'\n",
        "print('A {} device was detected.'.format(device))\n",
        "\n",
        "# Print the name of the cuda device, if detected\n",
        "if device=='cuda':\n",
        "    print (torch.cuda.get_device_name(device=device))"
      ],
      "metadata": {
        "id": "43z1m1q32x9U",
        "colab": {
          "base_uri": "https://localhost:8080/"
        },
        "outputId": "25745c30-fa1d-4345-b502-19f4595a9e23"
      },
      "execution_count": 10,
      "outputs": [
        {
          "output_type": "stream",
          "name": "stdout",
          "text": [
            "A cpu device was detected.\n"
          ]
        }
      ]
    },
    {
      "cell_type": "markdown",
      "source": [
        "## Standardize Data"
      ],
      "metadata": {
        "id": "FTR7Cp42MSe6"
      }
    },
    {
      "cell_type": "code",
      "source": [
        "mean = {\n",
        "    'xmin': df['xmin'].mean(),\n",
        "    'ymin': df['ymin'].mean(),\n",
        "    'xmax': df['xmax'].mean(),\n",
        "    'ymax': df['ymax'].mean(),\n",
        "    'xcenter': df['xcenter'].mean(),\n",
        "    'ycenter': df['ycenter'].mean(),\n",
        "    'area': df['area'].mean(),\n",
        "    'distance': df['distance'].mean(),\n",
        "    'angle': df['angle'].mean(),\n",
        "    'depth': df['depth'].mean(),\n",
        "}\n",
        "\n",
        "std = {\n",
        "    'xmin': df['xmin'].std(),\n",
        "    'ymin': df['ymin'].std(),\n",
        "    'xmax': df['xmax'].std(),\n",
        "    'ymax': df['ymax'].std(),\n",
        "    'xcenter': df['xcenter'].std(),\n",
        "    'ycenter': df['ycenter'].std(),\n",
        "    'area': df['area'].std(),\n",
        "    'distance': df['distance'].std(),\n",
        "    'angle': df['angle'].std(),\n",
        "    'depth': df['depth'].std(),\n",
        "}\n",
        "\n",
        "df['xmin']     = (df['xmin']     - mean['xmin']    ) / std['xmin']    \n",
        "df['ymin']     = (df['ymin']     - mean['ymin']    ) / std['ymin']    \n",
        "df['xmax']     = (df['xmax']     - mean['xmax']    ) / std['xmax']    \n",
        "df['ymax']     = (df['ymax']     - mean['ymax']    ) / std['ymax']    \n",
        "df['xcenter']  = (df['xcenter']  - mean['xcenter'] ) / std['xcenter'] \n",
        "df['ycenter']  = (df['ycenter']  - mean['ycenter'] ) / std['ycenter'] \n",
        "df['area']     = (df['area']     - mean['area']    ) / std['area']    \n",
        "df['distance'] = (df['distance'] - mean['distance']) / std['distance']\n",
        "df['angle']    = (df['angle']    - mean['angle']   ) / std['angle']   \n",
        "df['depth']    = (df['depth']    - mean['depth']   ) / std['depth']   "
      ],
      "metadata": {
        "id": "em9FEgzWJuGK"
      },
      "execution_count": 11,
      "outputs": []
    },
    {
      "cell_type": "code",
      "source": [
        "display(mean)\n",
        "display(std)"
      ],
      "metadata": {
        "colab": {
          "base_uri": "https://localhost:8080/",
          "height": 374
        },
        "id": "ZN-zSQjdJJd5",
        "outputId": "7d265775-2af6-476f-eee6-00ead75c7c83"
      },
      "execution_count": 22,
      "outputs": [
        {
          "output_type": "display_data",
          "data": {
            "text/plain": [
              "{'xmin': 615.8238754272461,\n",
              " 'ymin': 244.73744773864746,\n",
              " 'xmax': 813.3193283081055,\n",
              " 'ymax': 448.84392738342285,\n",
              " 'xcenter': 197.49545288085938,\n",
              " 'ycenter': 204.1064796447754,\n",
              " 'area': 40992.97557685175,\n",
              " 'distance': 405.8316376259497,\n",
              " 'angle': 60.57745087023986,\n",
              " 'depth': 2.125}"
            ]
          },
          "metadata": {}
        },
        {
          "output_type": "display_data",
          "data": {
            "text/plain": [
              "{'xmin': 243.65872423297344,\n",
              " 'ymin': 203.05753647028646,\n",
              " 'xmax': 251.73838345271653,\n",
              " 'ymax': 233.34701680277556,\n",
              " 'xcenter': 25.381534760922136,\n",
              " 'ycenter': 86.16781927313689,\n",
              " 'area': 19708.02440038967,\n",
              " 'distance': 31.624213312428132,\n",
              " 'angle': 5.719562957988278,\n",
              " 'depth': 0.8345229603962802}"
            ]
          },
          "metadata": {}
        }
      ]
    },
    {
      "cell_type": "markdown",
      "source": [
        "The above values are to be used in the 2D visualization Notebook."
      ],
      "metadata": {
        "id": "jO6H2B7QP9Y_"
      }
    },
    {
      "cell_type": "code",
      "source": [
        "df"
      ],
      "metadata": {
        "colab": {
          "base_uri": "https://localhost:8080/",
          "height": 300
        },
        "id": "C6P4IEeiMPah",
        "outputId": "585a9fb4-bf8e-4b57-cf41-5c4f4d2a5d18"
      },
      "execution_count": 12,
      "outputs": [
        {
          "output_type": "execute_result",
          "data": {
            "text/plain": [
              "       xmin      ymin      xmax      ymax   xcenter   ycenter      area  \\\n",
              "0  1.193582 -0.145834  1.245363   0.33072  0.893525   1.23927  1.393211   \n",
              "1  1.882697 -0.244883  1.845835   0.42766  0.233715  1.735202  1.570126   \n",
              "2 -0.185781   -0.6553 -0.233925 -0.891334 -0.536633 -0.869541 -0.874771   \n",
              "3 -0.318823  -1.09957 -0.209662 -1.127355  0.981189 -0.461761 -0.225737   \n",
              "4 -0.335627 -1.205262 -0.301666  -1.43399  0.229997  -1.04308 -0.901508   \n",
              "5 -0.496476  0.944481 -0.682413  0.590407 -2.002192  -0.62685 -0.962955   \n",
              "6 -0.763803  1.061252 -0.793529  0.941863 -0.537975  0.049737 -0.136086   \n",
              "7 -0.975768  1.345116 -0.870004  1.162029  0.738374 -0.022977  0.137719   \n",
              "\n",
              "   distance     angle     depth  \n",
              "0   0.35137 -0.400217 -0.149786  \n",
              "1  0.970596  0.314137 -1.348076  \n",
              "2 -0.392755  0.301464 -1.348076  \n",
              "3 -1.167343 -1.303518  1.048503  \n",
              "4 -1.419723 -0.816821 -0.149786  \n",
              "5  1.284015  1.814775 -0.149786  \n",
              "6  0.771451  0.747383  1.048503  \n",
              "7  -0.39761 -0.657203  1.048503  "
            ],
            "text/html": [
              "\n",
              "  <div id=\"df-26eabb01-2457-45e2-8ca7-64db0623c896\">\n",
              "    <div class=\"colab-df-container\">\n",
              "      <div>\n",
              "<style scoped>\n",
              "    .dataframe tbody tr th:only-of-type {\n",
              "        vertical-align: middle;\n",
              "    }\n",
              "\n",
              "    .dataframe tbody tr th {\n",
              "        vertical-align: top;\n",
              "    }\n",
              "\n",
              "    .dataframe thead th {\n",
              "        text-align: right;\n",
              "    }\n",
              "</style>\n",
              "<table border=\"1\" class=\"dataframe\">\n",
              "  <thead>\n",
              "    <tr style=\"text-align: right;\">\n",
              "      <th></th>\n",
              "      <th>xmin</th>\n",
              "      <th>ymin</th>\n",
              "      <th>xmax</th>\n",
              "      <th>ymax</th>\n",
              "      <th>xcenter</th>\n",
              "      <th>ycenter</th>\n",
              "      <th>area</th>\n",
              "      <th>distance</th>\n",
              "      <th>angle</th>\n",
              "      <th>depth</th>\n",
              "    </tr>\n",
              "  </thead>\n",
              "  <tbody>\n",
              "    <tr>\n",
              "      <th>0</th>\n",
              "      <td>1.193582</td>\n",
              "      <td>-0.145834</td>\n",
              "      <td>1.245363</td>\n",
              "      <td>0.33072</td>\n",
              "      <td>0.893525</td>\n",
              "      <td>1.23927</td>\n",
              "      <td>1.393211</td>\n",
              "      <td>0.35137</td>\n",
              "      <td>-0.400217</td>\n",
              "      <td>-0.149786</td>\n",
              "    </tr>\n",
              "    <tr>\n",
              "      <th>1</th>\n",
              "      <td>1.882697</td>\n",
              "      <td>-0.244883</td>\n",
              "      <td>1.845835</td>\n",
              "      <td>0.42766</td>\n",
              "      <td>0.233715</td>\n",
              "      <td>1.735202</td>\n",
              "      <td>1.570126</td>\n",
              "      <td>0.970596</td>\n",
              "      <td>0.314137</td>\n",
              "      <td>-1.348076</td>\n",
              "    </tr>\n",
              "    <tr>\n",
              "      <th>2</th>\n",
              "      <td>-0.185781</td>\n",
              "      <td>-0.6553</td>\n",
              "      <td>-0.233925</td>\n",
              "      <td>-0.891334</td>\n",
              "      <td>-0.536633</td>\n",
              "      <td>-0.869541</td>\n",
              "      <td>-0.874771</td>\n",
              "      <td>-0.392755</td>\n",
              "      <td>0.301464</td>\n",
              "      <td>-1.348076</td>\n",
              "    </tr>\n",
              "    <tr>\n",
              "      <th>3</th>\n",
              "      <td>-0.318823</td>\n",
              "      <td>-1.09957</td>\n",
              "      <td>-0.209662</td>\n",
              "      <td>-1.127355</td>\n",
              "      <td>0.981189</td>\n",
              "      <td>-0.461761</td>\n",
              "      <td>-0.225737</td>\n",
              "      <td>-1.167343</td>\n",
              "      <td>-1.303518</td>\n",
              "      <td>1.048503</td>\n",
              "    </tr>\n",
              "    <tr>\n",
              "      <th>4</th>\n",
              "      <td>-0.335627</td>\n",
              "      <td>-1.205262</td>\n",
              "      <td>-0.301666</td>\n",
              "      <td>-1.43399</td>\n",
              "      <td>0.229997</td>\n",
              "      <td>-1.04308</td>\n",
              "      <td>-0.901508</td>\n",
              "      <td>-1.419723</td>\n",
              "      <td>-0.816821</td>\n",
              "      <td>-0.149786</td>\n",
              "    </tr>\n",
              "    <tr>\n",
              "      <th>5</th>\n",
              "      <td>-0.496476</td>\n",
              "      <td>0.944481</td>\n",
              "      <td>-0.682413</td>\n",
              "      <td>0.590407</td>\n",
              "      <td>-2.002192</td>\n",
              "      <td>-0.62685</td>\n",
              "      <td>-0.962955</td>\n",
              "      <td>1.284015</td>\n",
              "      <td>1.814775</td>\n",
              "      <td>-0.149786</td>\n",
              "    </tr>\n",
              "    <tr>\n",
              "      <th>6</th>\n",
              "      <td>-0.763803</td>\n",
              "      <td>1.061252</td>\n",
              "      <td>-0.793529</td>\n",
              "      <td>0.941863</td>\n",
              "      <td>-0.537975</td>\n",
              "      <td>0.049737</td>\n",
              "      <td>-0.136086</td>\n",
              "      <td>0.771451</td>\n",
              "      <td>0.747383</td>\n",
              "      <td>1.048503</td>\n",
              "    </tr>\n",
              "    <tr>\n",
              "      <th>7</th>\n",
              "      <td>-0.975768</td>\n",
              "      <td>1.345116</td>\n",
              "      <td>-0.870004</td>\n",
              "      <td>1.162029</td>\n",
              "      <td>0.738374</td>\n",
              "      <td>-0.022977</td>\n",
              "      <td>0.137719</td>\n",
              "      <td>-0.39761</td>\n",
              "      <td>-0.657203</td>\n",
              "      <td>1.048503</td>\n",
              "    </tr>\n",
              "  </tbody>\n",
              "</table>\n",
              "</div>\n",
              "      <button class=\"colab-df-convert\" onclick=\"convertToInteractive('df-26eabb01-2457-45e2-8ca7-64db0623c896')\"\n",
              "              title=\"Convert this dataframe to an interactive table.\"\n",
              "              style=\"display:none;\">\n",
              "        \n",
              "  <svg xmlns=\"http://www.w3.org/2000/svg\" height=\"24px\"viewBox=\"0 0 24 24\"\n",
              "       width=\"24px\">\n",
              "    <path d=\"M0 0h24v24H0V0z\" fill=\"none\"/>\n",
              "    <path d=\"M18.56 5.44l.94 2.06.94-2.06 2.06-.94-2.06-.94-.94-2.06-.94 2.06-2.06.94zm-11 1L8.5 8.5l.94-2.06 2.06-.94-2.06-.94L8.5 2.5l-.94 2.06-2.06.94zm10 10l.94 2.06.94-2.06 2.06-.94-2.06-.94-.94-2.06-.94 2.06-2.06.94z\"/><path d=\"M17.41 7.96l-1.37-1.37c-.4-.4-.92-.59-1.43-.59-.52 0-1.04.2-1.43.59L10.3 9.45l-7.72 7.72c-.78.78-.78 2.05 0 2.83L4 21.41c.39.39.9.59 1.41.59.51 0 1.02-.2 1.41-.59l7.78-7.78 2.81-2.81c.8-.78.8-2.07 0-2.86zM5.41 20L4 18.59l7.72-7.72 1.47 1.35L5.41 20z\"/>\n",
              "  </svg>\n",
              "      </button>\n",
              "      \n",
              "  <style>\n",
              "    .colab-df-container {\n",
              "      display:flex;\n",
              "      flex-wrap:wrap;\n",
              "      gap: 12px;\n",
              "    }\n",
              "\n",
              "    .colab-df-convert {\n",
              "      background-color: #E8F0FE;\n",
              "      border: none;\n",
              "      border-radius: 50%;\n",
              "      cursor: pointer;\n",
              "      display: none;\n",
              "      fill: #1967D2;\n",
              "      height: 32px;\n",
              "      padding: 0 0 0 0;\n",
              "      width: 32px;\n",
              "    }\n",
              "\n",
              "    .colab-df-convert:hover {\n",
              "      background-color: #E2EBFA;\n",
              "      box-shadow: 0px 1px 2px rgba(60, 64, 67, 0.3), 0px 1px 3px 1px rgba(60, 64, 67, 0.15);\n",
              "      fill: #174EA6;\n",
              "    }\n",
              "\n",
              "    [theme=dark] .colab-df-convert {\n",
              "      background-color: #3B4455;\n",
              "      fill: #D2E3FC;\n",
              "    }\n",
              "\n",
              "    [theme=dark] .colab-df-convert:hover {\n",
              "      background-color: #434B5C;\n",
              "      box-shadow: 0px 1px 3px 1px rgba(0, 0, 0, 0.15);\n",
              "      filter: drop-shadow(0px 1px 2px rgba(0, 0, 0, 0.3));\n",
              "      fill: #FFFFFF;\n",
              "    }\n",
              "  </style>\n",
              "\n",
              "      <script>\n",
              "        const buttonEl =\n",
              "          document.querySelector('#df-26eabb01-2457-45e2-8ca7-64db0623c896 button.colab-df-convert');\n",
              "        buttonEl.style.display =\n",
              "          google.colab.kernel.accessAllowed ? 'block' : 'none';\n",
              "\n",
              "        async function convertToInteractive(key) {\n",
              "          const element = document.querySelector('#df-26eabb01-2457-45e2-8ca7-64db0623c896');\n",
              "          const dataTable =\n",
              "            await google.colab.kernel.invokeFunction('convertToInteractive',\n",
              "                                                     [key], {});\n",
              "          if (!dataTable) return;\n",
              "\n",
              "          const docLinkHtml = 'Like what you see? Visit the ' +\n",
              "            '<a target=\"_blank\" href=https://colab.research.google.com/notebooks/data_table.ipynb>data table notebook</a>'\n",
              "            + ' to learn more about interactive tables.';\n",
              "          element.innerHTML = '';\n",
              "          dataTable['output_type'] = 'display_data';\n",
              "          await google.colab.output.renderOutput(dataTable, element);\n",
              "          const docLink = document.createElement('div');\n",
              "          docLink.innerHTML = docLinkHtml;\n",
              "          element.appendChild(docLink);\n",
              "        }\n",
              "      </script>\n",
              "    </div>\n",
              "  </div>\n",
              "  "
            ]
          },
          "metadata": {},
          "execution_count": 12
        }
      ]
    },
    {
      "cell_type": "code",
      "source": [
        "# Create our PyTorch tensors and move to CPU or GPU if available\n",
        "# Extract the inputs and create a PyTorch tensor x (inputs)\n",
        "inputs = ['xmin','ymin','xmax','ymax','xcenter','ycenter','area','distance','angle']\n",
        "df[inputs] = df[inputs].astype(float)\n",
        "x = torch.tensor(df[inputs].values, dtype=torch.float, device=device)\n",
        "\n",
        "# Extract the outputs and create a PyTorch tensor y (outputs)\n",
        "outputs = ['depth']\n",
        "df[outputs] = df[outputs].astype(float)\n",
        "y = torch.tensor(df[outputs].values,dtype=torch.float, device=device)"
      ],
      "metadata": {
        "id": "rjwaTba5MQCp"
      },
      "execution_count": 13,
      "outputs": []
    },
    {
      "cell_type": "code",
      "source": [
        "# Explore the first 5 inputs\n",
        "x[0:5]"
      ],
      "metadata": {
        "colab": {
          "base_uri": "https://localhost:8080/"
        },
        "id": "n5V6uphBOxpK",
        "outputId": "73417aa3-15bd-4055-af02-efdd0e52aff5"
      },
      "execution_count": 14,
      "outputs": [
        {
          "output_type": "execute_result",
          "data": {
            "text/plain": [
              "tensor([[ 1.19358, -0.14583,  1.24536,  0.33072,  0.89353,  1.23927,  1.39321,  0.35137, -0.40022],\n",
              "        [ 1.88270, -0.24488,  1.84583,  0.42766,  0.23371,  1.73520,  1.57013,  0.97060,  0.31414],\n",
              "        [-0.18578, -0.65530, -0.23392, -0.89133, -0.53663, -0.86954, -0.87477, -0.39275,  0.30146],\n",
              "        [-0.31882, -1.09957, -0.20966, -1.12736,  0.98119, -0.46176, -0.22574, -1.16734, -1.30352],\n",
              "        [-0.33563, -1.20526, -0.30167, -1.43399,  0.23000, -1.04308, -0.90151, -1.41972, -0.81682]])"
            ]
          },
          "metadata": {},
          "execution_count": 14
        }
      ]
    },
    {
      "cell_type": "code",
      "source": [
        "# Explore the first 5 outputs\n",
        "y[0:5]"
      ],
      "metadata": {
        "colab": {
          "base_uri": "https://localhost:8080/"
        },
        "id": "itkXGuKXOyer",
        "outputId": "d31665e3-9f27-42c9-e1f5-801c0bf8d2d4"
      },
      "execution_count": 15,
      "outputs": [
        {
          "output_type": "execute_result",
          "data": {
            "text/plain": [
              "tensor([[-0.14979],\n",
              "        [-1.34808],\n",
              "        [-1.34808],\n",
              "        [ 1.04850],\n",
              "        [-0.14979]])"
            ]
          },
          "metadata": {},
          "execution_count": 15
        }
      ]
    },
    {
      "cell_type": "markdown",
      "source": [
        "## DNN\n",
        "\n",
        "Fully Connected Layer -> ReLU Activation Layer -> Fully Connected Layer"
      ],
      "metadata": {
        "id": "y3c-jmGyOa9a"
      }
    },
    {
      "cell_type": "code",
      "source": [
        "# Define your PyTorch neural network\n",
        "# Number of Inputs: 5\n",
        "# Number of Hidden Units: 100\n",
        "# Number of Hidden Layers: 1\n",
        "# Activation Function:  Relu\n",
        "# Number of Ouputs: 1\n",
        "model = nn.Sequential(\n",
        "            nn.Linear(9, 100),\n",
        "            nn.ReLU(),\n",
        "            nn.Linear(100, 1)\n",
        "        )\n",
        "\n",
        "# Move it to either the CPU or GPU depending on what we have available\n",
        "model.to(device)"
      ],
      "metadata": {
        "colab": {
          "base_uri": "https://localhost:8080/"
        },
        "id": "LPiudKutOzqy",
        "outputId": "8a0b3d94-adb3-4640-b914-a559f4b5de2b"
      },
      "execution_count": 16,
      "outputs": [
        {
          "output_type": "execute_result",
          "data": {
            "text/plain": [
              "Sequential(\n",
              "  (0): Linear(in_features=9, out_features=100, bias=True)\n",
              "  (1): ReLU()\n",
              "  (2): Linear(in_features=100, out_features=1, bias=True)\n",
              ")"
            ]
          },
          "metadata": {},
          "execution_count": 16
        }
      ]
    },
    {
      "cell_type": "markdown",
      "source": [
        "## Train DNN"
      ],
      "metadata": {
        "id": "Ftxc6gD2OqMT"
      }
    },
    {
      "cell_type": "code",
      "source": [
        "import torch.optim as optim\n",
        "\n",
        "# Meausure our neural network by mean square error\n",
        "criterion = torch.nn.MSELoss()\n",
        "\n",
        "# Train our network with a simple SGD approach\n",
        "optimizer = optim.SGD(model.parameters(), lr=0.01, momentum=0.9)\n",
        "\n",
        "# Train our network a using the entire dataset 5 times\n",
        "for epoch in range(2):\n",
        "    totalLoss = 0\n",
        "    for i in range(len(x)):\n",
        "        \n",
        "        # Single Forward Pass\n",
        "        ypred = model(x[i])\n",
        "        \n",
        "        # Measure how well the model predicted vs actual\n",
        "        loss = criterion(ypred, y[i])\n",
        "        \n",
        "        # Track how well the model predicted\n",
        "        totalLoss+=loss.item()\n",
        "        \n",
        "        # Update the neural network\n",
        "        optimizer.zero_grad()\n",
        "        loss.backward()\n",
        "        optimizer.step()\n",
        "\n",
        "    # Print out our loss after each training iteration\n",
        "    print (\"Total Loss: \", totalLoss)"
      ],
      "metadata": {
        "colab": {
          "base_uri": "https://localhost:8080/"
        },
        "id": "DQPobIWLO175",
        "outputId": "b5d3a52e-4739-41e6-9d47-1ce379cec8aa"
      },
      "execution_count": 17,
      "outputs": [
        {
          "output_type": "stream",
          "name": "stdout",
          "text": [
            "Total Loss:  9.384383098979015\n",
            "Total Loss:  28.15400403738022\n"
          ]
        }
      ]
    },
    {
      "cell_type": "code",
      "source": [
        "# Save the model\n",
        "torch.save(model, 'cnn_model.pt')"
      ],
      "metadata": {
        "id": "Q-is6teuGc0l"
      },
      "execution_count": 18,
      "outputs": []
    },
    {
      "cell_type": "markdown",
      "source": [
        "## Visualize Training of DNN"
      ],
      "metadata": {
        "id": "ILhSOG3-Ow1J"
      }
    },
    {
      "cell_type": "code",
      "source": [
        "# Import visualization library\n",
        "import matplotlib.pyplot as plt\n",
        "\n",
        "# Plot predictions vs. true values\n",
        "@torch.no_grad() \n",
        "def graphPredictions(model, x, y , minValue, maxValue):\n",
        "    \n",
        "    model.eval()                               # Set the model to inference mode\n",
        "    \n",
        "    predictions=[]                             # Track predictions\n",
        "    actual=[]                                  # Track the actual labels\n",
        "    \n",
        "    x.to(device)\n",
        "    y.to(device)\n",
        "    model.to(device)\n",
        "    \n",
        "    for i in range(len(x)):\n",
        "        \n",
        "        # Single forward pass\n",
        "        pred = model(x[i])                               \n",
        "\n",
        "        # Un-normalize our prediction\n",
        "        pred = pred*std['depth']+mean['depth']\n",
        "        act = y[i]*std['depth']+mean['depth']\n",
        "        \n",
        "        # Save prediction and actual label\n",
        "        predictions.append(pred.tolist())\n",
        "        actual.append(act.item())\n",
        "    \n",
        "    # Plot actuals vs predictions\n",
        "    plt.scatter(actual, predictions)\n",
        "    plt.xlabel('Actual Depth')\n",
        "    plt.ylabel('Predicted Depth')\n",
        "    plt.plot([minValue,maxValue], [minValue,maxValue]) \n",
        "    plt.xlim(minValue, maxValue)\n",
        "    plt.ylim(minValue, maxValue)\n",
        " \n",
        "    # Make the display equal in both dimensions\n",
        "    plt.gca().set_aspect('equal', adjustable='box')\n",
        "    plt.show()"
      ],
      "metadata": {
        "id": "cq_42lmeO5r5"
      },
      "execution_count": 19,
      "outputs": []
    },
    {
      "cell_type": "code",
      "source": [
        "graphPredictions(model, x, y, 0, 300)"
      ],
      "metadata": {
        "id": "eCZ_plRBPV6B"
      },
      "execution_count": 20,
      "outputs": []
    },
    {
      "cell_type": "markdown",
      "source": [
        "# Get Depth Inference"
      ],
      "metadata": {
        "id": "f68sCpa4PT0R"
      }
    },
    {
      "cell_type": "code",
      "source": [
        "# Data that affects the number of lemons sold in one day\n",
        "idx = 3\n",
        "sample = {\n",
        "    'xmin': df['xmin'][idx],\n",
        "    'ymin': df['ymin'][idx],\n",
        "    'xmax': df['xmax'][idx],\n",
        "    'ymax': df['ymax'][idx],\n",
        "    'xcenter': df['xcenter'][idx],\n",
        "    'ycenter': df['ycenter'][idx],\n",
        "    'area': df['area'][idx],\n",
        "    'distance': df['distance'][idx],\n",
        "    'angle': df['angle'][idx],\n",
        "}\n",
        "\n",
        "# Calculate what would have been the actual result using\n",
        "# the synthetic dataset's algorithm\n",
        "actual = df['depth'][idx]\n",
        "\n",
        "# Use the CPU as we just need to do a single pass\n",
        "model.to('cpu')\n",
        "\n",
        "# Normalize our inputs using the same values for our training\n",
        "'''\n",
        "sample['xmin']     = (sample['xmin']     - mean['xmin']    ) / std['xmin']    \n",
        "sample['ymin']     = (sample['ymin']     - mean['ymin']    ) / std['ymin']    \n",
        "sample['xmax']     = (sample['xmax']     - mean['xmax']    ) / std['xmax']    \n",
        "sample['ymax']     = (sample['ymax']     - mean['ymax']    ) / std['ymax']    \n",
        "sample['xcenter']  = (sample['xcenter']  - mean['xcenter'] ) / std['xcenter'] \n",
        "sample['ycenter']  = (sample['ycenter']  - mean['ycenter'] ) / std['ycenter'] \n",
        "sample['area']     = (sample['area']     - mean['area']    ) / std['area']    \n",
        "sample['distance'] = (sample['distance'] - mean['distance']) / std['distance']\n",
        "sample['angle']    = (sample['angle']    - mean['angle']   ) / std['angle']   \n",
        "'''\n",
        "\n",
        "# Create our input tensor\n",
        "x1 = torch.tensor(list(sample.values()), dtype=float)\n",
        "\n",
        "# Pass the input into the neural network\n",
        "y1 = model(x1.float())\n",
        "\n",
        "# Un-normalize our output y1\n",
        "y1 = y1*std['depth']+mean['depth']\n",
        "   \n",
        "# Compare what your network predicted to the actual\n",
        "print (\"Neural Network Predicts: \", y1.item())\n",
        "print (\"Actual Result: \", actual)"
      ],
      "metadata": {
        "colab": {
          "base_uri": "https://localhost:8080/"
        },
        "id": "wItCPcpOPr-a",
        "outputId": "98905751-e858-40b0-fe2e-f09df031b129"
      },
      "execution_count": 21,
      "outputs": [
        {
          "output_type": "stream",
          "name": "stdout",
          "text": [
            "Neural Network Predicts:  2.313155174255371\n",
            "Actual Result:  1.0485032066517366\n"
          ]
        }
      ]
    },
    {
      "cell_type": "markdown",
      "source": [
        "At the time of uploading, the error is quite high. This is because the entire training set is only 8 images. And, unlike the YOLO dataset, this is not transfer learning.\n",
        "\n",
        "In the future I will retrain this to gain a higher level of precision.\n",
        "\n",
        "    Neural Network Predicts:  2.313155174255371\n",
        "    Actual Result:  1.0485032066517366"
      ],
      "metadata": {
        "id": "YhPHFcAeXE1x"
      }
    },
    {
      "cell_type": "code",
      "source": [],
      "metadata": {
        "id": "5hSVXHMAP6tt"
      },
      "execution_count": null,
      "outputs": []
    }
  ]
}
